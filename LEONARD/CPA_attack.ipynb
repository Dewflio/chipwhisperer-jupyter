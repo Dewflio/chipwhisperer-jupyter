{
 "cells": [
  {
   "cell_type": "code",
   "execution_count": 13,
   "id": "ff98de39",
   "metadata": {},
   "outputs": [],
   "source": [
    "import chipwhisperer as cw\n",
    "import struct"
   ]
  },
  {
   "cell_type": "code",
   "execution_count": 25,
   "id": "e6de37be",
   "metadata": {},
   "outputs": [],
   "source": [
    "def float_to_binary_str(f):\n",
    "    # Pack the float into 4 bytes (32-bit) using IEEE 754 standard\n",
    "    [packed] = struct.unpack('!I', struct.pack('!f', f))\n",
    "    # Convert the packed number to a binary string\n",
    "    return f\"{packed:032b}\""
   ]
  },
  {
   "cell_type": "code",
   "execution_count": 26,
   "id": "6e3acda6",
   "metadata": {},
   "outputs": [],
   "source": [
    "def HW_float32(f):\n",
    "    # Get the binary representation of the 32-bit float\n",
    "    binary_str = float_to_binary_str(f)\n",
    "    # Count and return the number of '1' bits\n",
    "    return binary_str.count('1')"
   ]
  },
  {
   "cell_type": "code",
   "execution_count": 28,
   "id": "3d8f2e57",
   "metadata": {},
   "outputs": [
    {
     "name": "stdout",
     "output_type": "stream",
     "text": [
      "00111111001010000011000100100111\n",
      "15\n"
     ]
    }
   ],
   "source": [
    "print(float_to_binary_str(0.657))\n",
    "print(HW_float32(0.657))"
   ]
  },
  {
   "cell_type": "code",
   "execution_count": 2,
   "id": "b72aaa4c",
   "metadata": {},
   "outputs": [],
   "source": [
    "proj = cw.open_project('project-02')"
   ]
  },
  {
   "cell_type": "code",
   "execution_count": 3,
   "id": "b26e54bf",
   "metadata": {},
   "outputs": [],
   "source": [
    "trace_waves_arr = []\n",
    "for trace in proj.traces:\n",
    "    trace_waves_arr.append(trace.wave)"
   ]
  },
  {
   "cell_type": "code",
   "execution_count": 4,
   "id": "0021b974",
   "metadata": {},
   "outputs": [
    {
     "name": "stdout",
     "output_type": "stream",
     "text": [
      "1000\n"
     ]
    }
   ],
   "source": [
    "print(len(trace_waves_arr))"
   ]
  },
  {
   "cell_type": "code",
   "execution_count": 93,
   "id": "8ef70342",
   "metadata": {},
   "outputs": [],
   "source": [
    "def CPA_attack(trace_waves, inputs, weights, time_sample_index):\n",
    "    r_abs = []\n",
    "    n_trace_waves = len(trace_waves)\n",
    "    leakage_sum = 0\n",
    "    for trace_wave in trace_waves:\n",
    "        leakage_sum += trace_wave[time_sample_index]    \n",
    "    average_leakage = leakage_sum / n_trace_waves\n",
    "    M = len(inputs)\n",
    "    N = len(weights)\n",
    "    \n",
    "    \n",
    "    for i in range(N):\n",
    "        hypothetical_products = []\n",
    "        hypothetical_leakages = []\n",
    "        hypothetical_leakage_sum = 0\n",
    "        for j in range(M):\n",
    "            hypothetical_product = weights[i] * inputs[j]\n",
    "            hypothetical_products.append(hypothetical_product)\n",
    "            hypothetical_leakage = HW_float32(hypothetical_product)\n",
    "            hypothetical_leakages.append(hypothetical_leakage)\n",
    "            hypothetical_leakage_sum += hypothetical_leakage\n",
    "            #print(f'Input {inputs[j]} with idx {j}, weight {weights[i]} with idx {i} -> hypothetical_product = {hypothetical_product}')\n",
    "            #print(hypothetical_leakage)\n",
    "        average_hypothetical_leakage = hypothetical_leakage_sum / M\n",
    "        #print(average_hypothetical_leakage)\n",
    "        \n",
    "        \n",
    "        numerator= 0\n",
    "        denominator1 = 0\n",
    "        denominator2 = 0\n",
    "        for j in range(M):\n",
    "            numerator += (hypothetical_leakages[j] - average_hypothetical_leakage) * (trace_waves[j][time_sample_index] - average_leakage)\n",
    "            denominator1 += (hypothetical_leakages[j] - average_hypothetical_leakage)**2\n",
    "            denominator2 += (trace_waves[j][time_sample_index] - average_leakage)**2\n",
    "            #print(f'Input {inputs[j]} with idx {j}, weight {weights[i]} with idx {i} -> hypothetical_product = {hypothetical_products[j]}' +\n",
    "            #     f' hypothetical_leakage = {hypothetical_leakages[j]}')\n",
    "        #print(numerator, denominator1, denominator2)\n",
    "        denominator1 = denominator1**(1/2)\n",
    "        denominator2 = denominator2**(1/2)\n",
    "        #print(numerator, denominator1, denominator2)\n",
    "        \n",
    "        corr_coef = numerator / (denominator1 * denominator2)\n",
    "        r_abs.append(abs(corr_coef))\n",
    "        #print(abs(corr_coef))\n",
    "    return r_abs\n",
    "        \n",
    "            \n",
    "            \n",
    "            "
   ]
  },
  {
   "cell_type": "code",
   "execution_count": 102,
   "id": "a47c4bb9",
   "metadata": {},
   "outputs": [],
   "source": [
    "\n",
    "test_inputs = [0.5, 0.657, 0.3333, 0.0003, 0.189, 0.5243, 0.2222, 0.4959]\n",
    "test_trace_waves = trace_waves_arr[:8]\n",
    "test_weights = [0.21, 0.22, 0.23]\n",
    "test_time_sample_index = 5"
   ]
  },
  {
   "cell_type": "code",
   "execution_count": 103,
   "id": "fc78f257",
   "metadata": {},
   "outputs": [
    {
     "data": {
      "text/plain": [
       "[0.32816263481641533, 0.14998263829050926, 0.10630051661265462]"
      ]
     },
     "execution_count": 103,
     "metadata": {},
     "output_type": "execute_result"
    }
   ],
   "source": [
    "CPA_attack(trace_waves = test_trace_waves,\n",
    "           inputs = test_inputs,\n",
    "           weights = test_weights,\n",
    "           time_sample_index = test_time_sample_index)"
   ]
  },
  {
   "cell_type": "code",
   "execution_count": null,
   "id": "9fee403d",
   "metadata": {},
   "outputs": [],
   "source": []
  }
 ],
 "metadata": {
  "kernelspec": {
   "display_name": "Python 3 (ipykernel)",
   "language": "python",
   "name": "python3"
  },
  "language_info": {
   "codemirror_mode": {
    "name": "ipython",
    "version": 3
   },
   "file_extension": ".py",
   "mimetype": "text/x-python",
   "name": "python",
   "nbconvert_exporter": "python",
   "pygments_lexer": "ipython3",
   "version": "3.10.8"
  }
 },
 "nbformat": 4,
 "nbformat_minor": 5
}
