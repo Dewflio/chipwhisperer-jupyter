{
 "cells": [
  {
   "cell_type": "markdown",
   "id": "89777fa5",
   "metadata": {},
   "source": [
    "### Import chipwhisperer and set the scope\n",
    "\n",
    "The scope can be left as is, because we have only one device connected. In cases where there are multiple divices connected we can use `scope(sn=DEVICE_SERIAL_NUMBER)` to create scope for a specific device. "
   ]
  },
  {
   "cell_type": "code",
   "execution_count": null,
   "id": "aacad4d7",
   "metadata": {},
   "outputs": [],
   "source": [
    "import chipwhisperer as cw\n",
    "scope = cw.scope()"
   ]
  },
  {
   "cell_type": "markdown",
   "id": "24d85fcb",
   "metadata": {},
   "source": [
    "Note to self:\n",
    "When the scope is created, the device's green LED light starts blinking (on top of the blue LED that probably indicates that the device is connected physically).\n",
    "\n",
    "We also set the scope to a default setup which means:\n",
    "\n",
    "- Sets the scope gain to 45dB\n",
    "- Sets the scope to capture 5000 samples\n",
    "- Sets the scope offset to 0 (aka it will begin capturing as soon as it is triggered)\n",
    "- Sets the scope trigger to rising edge\n",
    "- Outputs a 7.37MHz clock to the target on HS2\n",
    "- Clocks the scope ADC at 4*7.37MHz. Note that this is synchronous to the target clock on HS2\n",
    "- Assigns GPIO1 as serial RX\n",
    "- Assigns GPIO2 as serial TX"
   ]
  },
  {
   "cell_type": "code",
   "execution_count": null,
   "id": "efeb8b6d",
   "metadata": {},
   "outputs": [],
   "source": [
    "scope.default_setup()"
   ]
  },
  {
   "cell_type": "markdown",
   "id": "92cb1294",
   "metadata": {},
   "source": [
    "### Connecting to target\n",
    "\n",
    "Now we can connect to the target (probably meaning the target board). "
   ]
  },
  {
   "cell_type": "code",
   "execution_count": null,
   "id": "a2c169b2",
   "metadata": {},
   "outputs": [],
   "source": [
    "target = cw.target(scope, cw.targets.SimpleSerial2) #cw.targets.SimpleSerial can be omitted\n",
    "#MY CHANGES - changed target to SimpleSerial2 - to be able to send_cmd"
   ]
  },
  {
   "cell_type": "code",
   "execution_count": null,
   "id": "15fe5e2f",
   "metadata": {},
   "outputs": [],
   "source": [
    "%%bash\n",
    "cd version_01/\n",
    "make PLATFORM='CWLITEARM' CRYPTO_TARGET=NONE"
   ]
  },
  {
   "cell_type": "markdown",
   "id": "013fb9f3",
   "metadata": {},
   "source": [
    "### Flashing The Compiled .hex Onto Target"
   ]
  },
  {
   "cell_type": "code",
   "execution_count": null,
   "id": "fa89d8d7",
   "metadata": {},
   "outputs": [],
   "source": [
    "cw.program_target(scope, cw.programmers.STM32FProgrammer, \"version_01/simpleserial-target-CWLITEARM.hex\")"
   ]
  },
  {
   "cell_type": "markdown",
   "id": "0513f55a",
   "metadata": {},
   "source": [
    "### Capturing a trace"
   ]
  },
  {
   "cell_type": "code",
   "execution_count": null,
   "id": "b04610e4",
   "metadata": {},
   "outputs": [],
   "source": [
    "# arm the scope\n",
    "scope.arm()\n",
    "\n",
    "# Set the maximum number of points in a trace\n",
    "scope.adc.fifo_fill_mode = \"normal\"\n",
    "scope.adc.samples = 24431\n",
    "scope.adc.decimate = 2\n",
    "\n",
    "\n",
    "# flush the UART buffer\n",
    "target.flush()\n",
    "\n",
    "data = bytearray([0x42] * 16)\n",
    "target.send_cmd('p', 0x80, data)\n",
    "\n",
    "ret = scope.capture()\n",
    "trace = scope.get_last_trace()\n",
    "\n",
    "returned_data = target.read_cmd('r')\n",
    "print(returned_data)\n",
    "ack = target.read_cmd('e')\n",
    "print(ack)"
   ]
  },
  {
   "cell_type": "code",
   "execution_count": null,
   "id": "4231c7fe",
   "metadata": {},
   "outputs": [],
   "source": [
    "print(len(trace))"
   ]
  },
  {
   "cell_type": "code",
   "execution_count": null,
   "id": "890b5630",
   "metadata": {
    "scrolled": false
   },
   "outputs": [],
   "source": [
    "import matplotlib.pyplot as plt\n",
    "# Plot the trace\n",
    "plt.plot(trace, linewidth=0.8)\n",
    "\n",
    "plt.savefig('figure.svg', format='svg')\n",
    "plt.show()"
   ]
  },
  {
   "cell_type": "code",
   "execution_count": null,
   "id": "a9a07a0b",
   "metadata": {},
   "outputs": [],
   "source": [
    "print(returned_data)\n",
    "byte_arr = bytearray(returned_data)\n",
    "print(byte_arr)\n"
   ]
  },
  {
   "cell_type": "markdown",
   "id": "7ecac6f1",
   "metadata": {},
   "source": [
    "### Trying Segmented Capture"
   ]
  },
  {
   "cell_type": "code",
   "execution_count": null,
   "id": "e8ca8e4f",
   "metadata": {},
   "outputs": [],
   "source": [
    "scope.arm()\n",
    "scope.adc.fifo_fill_mode = \"segment\"\n",
    "scope.adc.samples = 21000\n",
    "# flush the UART buffer\n",
    "target.flush()\n",
    "\n",
    "data = bytearray([0x42] * 16)\n",
    "target.send_cmd('p', 0x80, data)\n",
    "traces = []\n",
    "\n",
    "ret = scope.capture_segmented()\n",
    "trace = scope.get_last_trace_segmented()\n",
    "\n",
    "total_trace = []\n",
    "print(len(trace))\n",
    "for t in trace:\n",
    "    print(len(t))\n",
    "    for p in t:\n",
    "        total_trace.append(p)\n",
    "        \n",
    "ret = scope.capture_segmented()\n",
    "trace = scope.get_last_trace_segmented()\n",
    "\n",
    "print(len(trace))\n",
    "for t in trace:\n",
    "    print(len(t))\n",
    "    for p in t:\n",
    "        total_trace.append(p)\n",
    "    \n",
    "#while captured_points < total_points:\n",
    "#        \n",
    "#    ret = scope.capture_segmented()\n",
    "#    trace = scope.get_last_trace_segmented()\n",
    "#    \n",
    "#    traces.append(trace)\n",
    "#    print(len(trace))\n",
    "#    captured_points += len(trace)"
   ]
  },
  {
   "cell_type": "code",
   "execution_count": null,
   "id": "07ce42eb",
   "metadata": {},
   "outputs": [],
   "source": [
    "plt.plot(total_trace, linewidth=0.8)\n",
    "\n",
    "plt.savefig('figure_segmented.svg', format='svg')\n",
    "plt.show()"
   ]
  },
  {
   "cell_type": "markdown",
   "id": "7dcfd08b",
   "metadata": {},
   "source": [
    "### Disconnecting the target and the scope"
   ]
  },
  {
   "cell_type": "code",
   "execution_count": null,
   "id": "7d370794",
   "metadata": {},
   "outputs": [],
   "source": [
    "target.dis()"
   ]
  },
  {
   "cell_type": "code",
   "execution_count": null,
   "id": "92c2291d",
   "metadata": {},
   "outputs": [],
   "source": [
    "scope.dis()"
   ]
  }
 ],
 "metadata": {
  "kernelspec": {
   "display_name": "Python 3 (ipykernel)",
   "language": "python",
   "name": "python3"
  },
  "language_info": {
   "codemirror_mode": {
    "name": "ipython",
    "version": 3
   },
   "file_extension": ".py",
   "mimetype": "text/x-python",
   "name": "python",
   "nbconvert_exporter": "python",
   "pygments_lexer": "ipython3",
   "version": "3.10.8"
  }
 },
 "nbformat": 4,
 "nbformat_minor": 5
}
