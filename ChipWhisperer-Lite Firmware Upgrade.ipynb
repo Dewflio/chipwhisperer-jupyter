{
 "cells": [
  {
   "cell_type": "markdown",
   "metadata": {},
   "source": [
    "## Updating in Linux/VM\n",
    "\n",
    "Ensure you have ChipWhisperer installed (follow https://chipwhisperer.readthedocs.io/en/latest/prerequisites.html). This is already taken care of for the ChipWhisperer VM.\n",
    "\n",
    "Next, run the following line:"
   ]
  },
  {
   "cell_type": "code",
   "execution_count": null,
   "metadata": {},
   "outputs": [],
   "source": [
    "import chipwhisperer as cw\n",
    "scope = cw.scope()\n",
    "scope.upgrade_firmware()"
   ]
  },
  {
   "cell_type": "markdown",
   "metadata": {},
   "source": [
    "## Updating in Windows\n",
    "\n",
    "![](img/zadig.png)\n",
    "\n",
    "1. Install ChipWhisperer (recommended to use the Windows installer)\n",
    "1. Open Device Manager and search for \"ChipWhisperer Lite\" under \"Universal Serial Bus devices\".\n",
    "1. If the device appears under that header, proceed to step 7\n",
    "1. Otherwise, run Zadig.exe, included in this directory\n",
    "1. Select ChipWhisperer Lite - if it doesn't appear, go to Options and select \"List all devices\"\n",
    "1. Click \"Install Driver\"\n",
    "1. Run the following code:"
   ]
  },
  {
   "cell_type": "code",
   "execution_count": null,
   "metadata": {},
   "outputs": [],
   "source": [
    "import chipwhisperer as cw\n",
    "scope = cw.scope()\n",
    "scope.upgrade_firmware()"
   ]
  },
  {
   "cell_type": "markdown",
   "metadata": {},
   "source": [
    "8. If you used Zadig, go to device manager and find \"ChipWhisperer Lite\" under \"Universal Serial Bus devices\".\n",
    "9. Right click \"ChipWhisperer Lite\" and select \"Uninstall Device\"\n",
    "10. Select \"Delete the driver software for this device\" and click \"Uninstall\"\n",
    "11. Unplug and replug your ChipWhisperer\n",
    "\n",
    "![](img/uninstall_cw.png)"
   ]
  },
  {
   "cell_type": "markdown",
   "metadata": {},
   "source": [
    "## Troubleshooting\n",
    "\n",
    "If the above methods do not work, short the ERASE pins (JP2) across the board from the USB connector, beside the second largest chip on the board. From there, run the following code:"
   ]
  },
  {
   "cell_type": "code",
   "execution_count": null,
   "metadata": {},
   "outputs": [],
   "source": [
    "import chipwhisperer as cw\n",
    "cw.program_sam_firmware(hardware_type='cwlite')"
   ]
  },
  {
   "cell_type": "markdown",
   "metadata": {},
   "source": [
    "If that does not work for you, contact support@newae.com for assistance."
   ]
  }
 ],
 "metadata": {
  "kernelspec": {
   "display_name": "Python 3",
   "language": "python",
   "name": "python3"
  },
  "language_info": {
   "codemirror_mode": {
    "name": "ipython",
    "version": 3
   },
   "file_extension": ".py",
   "mimetype": "text/x-python",
   "name": "python",
   "nbconvert_exporter": "python",
   "pygments_lexer": "ipython3",
   "version": "3.7.7"
  }
 },
 "nbformat": 4,
 "nbformat_minor": 4
}
