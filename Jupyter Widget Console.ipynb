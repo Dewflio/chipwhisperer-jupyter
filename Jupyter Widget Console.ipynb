{
 "cells": [
  {
   "cell_type": "markdown",
   "metadata": {},
   "source": [
    "## Jupyter Serial Console"
   ]
  },
  {
   "cell_type": "markdown",
   "metadata": {},
   "source": [
    "Run the below code to print out received serial data from the target.\n",
    "\n",
    "Click \"Clear console\" to clear the text."
   ]
  },
  {
   "cell_type": "code",
   "execution_count": null,
   "metadata": {
    "scrolled": false
   },
   "outputs": [],
   "source": [
    "'''requires iPyWidgets to be installed and enabled for jupyter\n",
    "see https://stackoverflow.com/questions/36351109/ipython-notebook-ipywidgets-does-not-show\n",
    "\n",
    "Call console.stop() to stop'''\n",
    "\n",
    "import ipywidgets as widgets\n",
    "import time\n",
    "import ipywidgets as widgets\n",
    "from IPython.display import display\n",
    "import serial\n",
    "import threading\n",
    "text = widgets.Output(\n",
    "    value=''\n",
    ")\n",
    "\n",
    "button = widgets.Button(\n",
    "    description='Clear console',\n",
    "    disabled=False,\n",
    "    button_style='', # 'success', 'info', 'warning', 'danger' or ''\n",
    "    tooltip='Clear console',\n",
    "    icon='check' # (FontAwesome names without the `fa-` prefix)\n",
    ")\n",
    "\n",
    "def clear_output_callback(a):\n",
    "    text.clear_output()\n",
    "display(button)\n",
    "button.on_click(clear_output_callback)\n",
    "display(text)\n",
    "\n",
    "class cw_console:\n",
    "    def __init__(self, ser_path = \"/dev/cw_serial0\"):\n",
    "        self.quit = False\n",
    "        self.ser_path = ser_path\n",
    "        self.lock = threading.Lock()\n",
    "        \n",
    "    def run(self):\n",
    "        with text:\n",
    "            with serial.Serial(self.ser_path) as ser:\n",
    "                while not self.quit:\n",
    "                    # get num_chars waiting\n",
    "                    if ser.in_waiting:\n",
    "                        print(ser.read().decode('latin-1'), end='')\n",
    "\n",
    "                \n",
    "    def stop(self):\n",
    "        self.quit = True\n",
    "        \n",
    "console = cw_console()\n",
    "t = threading.Thread(target=console.run)\n",
    "t.start()"
   ]
  },
  {
   "cell_type": "code",
   "execution_count": null,
   "metadata": {},
   "outputs": [],
   "source": [
    "console.stop()"
   ]
  },
  {
   "cell_type": "markdown",
   "metadata": {},
   "source": [
    "## Non-Widget Console\n",
    "\n",
    "If the above doesn't work, use the following console:"
   ]
  },
  {
   "cell_type": "code",
   "execution_count": null,
   "metadata": {},
   "outputs": [],
   "source": [
    "import serial\n",
    "import time\n",
    "\n",
    "with serial.Serial('/dev/cw_serial0') as ser:\n",
    "    while True:\n",
    "        if ser.in_waiting:\n",
    "            print(ser.read().decode('ascii', 'ignore'), end='')"
   ]
  },
  {
   "cell_type": "markdown",
   "metadata": {},
   "source": [
    "Stop rerun the above block to clear console"
   ]
  },
  {
   "cell_type": "code",
   "execution_count": null,
   "metadata": {},
   "outputs": [],
   "source": []
  }
 ],
 "metadata": {
  "kernelspec": {
   "display_name": "Python 3",
   "language": "python",
   "name": "python3"
  },
  "language_info": {
   "codemirror_mode": {
    "name": "ipython",
    "version": 3
   },
   "file_extension": ".py",
   "mimetype": "text/x-python",
   "name": "python",
   "nbconvert_exporter": "python",
   "pygments_lexer": "ipython3",
   "version": "3.7.7"
  },
  "toc": {
   "base_numbering": 1,
   "nav_menu": {},
   "number_sections": true,
   "sideBar": true,
   "skip_h1_title": false,
   "title_cell": "Table of Contents",
   "title_sidebar": "Contents",
   "toc_cell": false,
   "toc_position": {},
   "toc_section_display": true,
   "toc_window_display": false
  }
 },
 "nbformat": 4,
 "nbformat_minor": 5
}
