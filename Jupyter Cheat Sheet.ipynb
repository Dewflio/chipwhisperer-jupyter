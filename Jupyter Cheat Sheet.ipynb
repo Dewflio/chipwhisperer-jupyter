{
 "cells": [
  {
   "cell_type": "markdown",
   "id": "9df6f447",
   "metadata": {},
   "source": [
    "# Jupyter Cheat Sheet"
   ]
  },
  {
   "cell_type": "markdown",
   "id": "c41fbdeb",
   "metadata": {},
   "source": [
    "## Display Documentation for Commands"
   ]
  },
  {
   "cell_type": "code",
   "execution_count": null,
   "id": "28aef87b",
   "metadata": {},
   "outputs": [],
   "source": [
    "import chipwhisperer as cw\n",
    "cw.scope?"
   ]
  },
  {
   "cell_type": "markdown",
   "id": "ef21ec09",
   "metadata": {},
   "source": [
    "## Display Source for Commands"
   ]
  },
  {
   "cell_type": "code",
   "execution_count": null,
   "id": "e42a832d",
   "metadata": {},
   "outputs": [],
   "source": [
    "import chipwhisperer as cw\n",
    "cw.scope??"
   ]
  },
  {
   "cell_type": "markdown",
   "id": "1df122b5",
   "metadata": {},
   "source": [
    "## Search Module"
   ]
  },
  {
   "cell_type": "code",
   "execution_count": null,
   "id": "d5adbeb4",
   "metadata": {},
   "outputs": [],
   "source": [
    "?cw.*target*"
   ]
  },
  {
   "cell_type": "markdown",
   "id": "ce18a834",
   "metadata": {},
   "source": [
    "## Jupyter Quick Reference"
   ]
  },
  {
   "cell_type": "code",
   "execution_count": null,
   "id": "0f30372b",
   "metadata": {},
   "outputs": [],
   "source": [
    "%quickref"
   ]
  },
  {
   "cell_type": "markdown",
   "id": "9986ce2c",
   "metadata": {},
   "source": [
    "## Plotting Command"
   ]
  },
  {
   "cell_type": "code",
   "execution_count": null,
   "id": "bb1c32d4",
   "metadata": {},
   "outputs": [],
   "source": [
    "plot = cw.plot([1, 2, 3])\n",
    "display(plot)"
   ]
  },
  {
   "cell_type": "markdown",
   "id": "a1f9c3c1",
   "metadata": {},
   "source": [
    "## Overlaying Plots"
   ]
  },
  {
   "cell_type": "code",
   "execution_count": null,
   "id": "26a33772",
   "metadata": {},
   "outputs": [],
   "source": [
    "plot = cw.plot([1, 2, 3]) * cw.plot([3, 2, 1])\n",
    "display(plot)"
   ]
  }
 ],
 "metadata": {
  "kernelspec": {
   "display_name": "Python 3 (ipykernel)",
   "language": "python",
   "name": "python3"
  },
  "language_info": {
   "codemirror_mode": {
    "name": "ipython",
    "version": 3
   },
   "file_extension": ".py",
   "mimetype": "text/x-python",
   "name": "python",
   "nbconvert_exporter": "python",
   "pygments_lexer": "ipython3",
   "version": "3.10.5"
  }
 },
 "nbformat": 4,
 "nbformat_minor": 5
}
