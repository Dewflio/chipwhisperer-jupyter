{
 "cells": [
  {
   "cell_type": "markdown",
   "id": "6db9aa8b-cb97-4cb7-93ba-7e1206e1881f",
   "metadata": {},
   "source": [
    "# Lab 5 - Hint 1 (Toughest)\n",
    "\n",
    "Estimate the number of cycles the calculation will take. Assume 1 cycle per instruction. If you want, you can open up the `.lss` file generated when building the firmware and look at the loop. This `.lss` file is in the lab folder that the `.c` file is."
   ]
  }
 ],
 "metadata": {
  "kernelspec": {
   "display_name": "Python 3 (ipykernel)",
   "language": "python",
   "name": "python3"
  },
  "language_info": {
   "codemirror_mode": {
    "name": "ipython",
    "version": 3
   },
   "file_extension": ".py",
   "mimetype": "text/x-python",
   "name": "python",
   "nbconvert_exporter": "python",
   "pygments_lexer": "ipython3",
   "version": "3.10.6"
  }
 },
 "nbformat": 4,
 "nbformat_minor": 5
}
