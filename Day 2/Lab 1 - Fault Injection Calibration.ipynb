{
 "cells": [
  {
   "cell_type": "markdown",
   "metadata": {},
   "source": [
    "# Lab 1 - Fault Injection Calibration"
   ]
  },
  {
   "cell_type": "markdown",
   "metadata": {},
   "source": [
    "**SUMMARY:** *Now that we've seen how fault injection works, let's use it on some real hardware. In this lab, we'll be doing a sort of \"calibration\" by finding successful settings on simple firmware so that we can more easily do fault injection against more complicated firmware.*\n",
    "\n",
    "**LEARNING OUTCOMES:**\n",
    "\n",
    "* Understanding voltage glitch settings\n",
    "* Exploring ChipWhisperer's glitch module\n",
    "* Building a voltage glitch and crash map."
   ]
  },
  {
   "cell_type": "markdown",
   "metadata": {},
   "source": [
    "## \\#HARDWARE\n",
    "\n",
    "Connection is the same as before. There's no simulated version of the glitch labs, so you'll need hardware to run them."
   ]
  },
  {
   "cell_type": "code",
   "execution_count": 1,
   "metadata": {},
   "outputs": [],
   "source": [
    "SCOPETYPE = 'OPENADC'\n",
    "PLATFORM = 'CW308_SAM4S'\n",
    "SS_VER = 'SS_VER_2_1'"
   ]
  },
  {
   "cell_type": "code",
   "execution_count": 2,
   "metadata": {},
   "outputs": [
    {
     "ename": "USBErrorBusy",
     "evalue": "LIBUSB_ERROR_BUSY [-6]",
     "output_type": "error",
     "traceback": [
      "\u001b[0;31m---------------------------------------------------------------------------\u001b[0m",
      "\u001b[0;31mNameError\u001b[0m                                 Traceback (most recent call last)",
      "File \u001b[0;32m/tmp/ipykernel_1261803/2799263322.py:4\u001b[0m\n\u001b[1;32m      3\u001b[0m \u001b[38;5;28;01mtry\u001b[39;00m:\n\u001b[0;32m----> 4\u001b[0m     \u001b[38;5;28;01mif\u001b[39;00m \u001b[38;5;129;01mnot\u001b[39;00m \u001b[43mscope\u001b[49m\u001b[38;5;241m.\u001b[39mconnectStatus:\n\u001b[1;32m      5\u001b[0m         scope\u001b[38;5;241m.\u001b[39mcon()\n",
      "\u001b[0;31mNameError\u001b[0m: name 'scope' is not defined",
      "\nDuring handling of the above exception, another exception occurred:\n",
      "\u001b[0;31mUSBErrorBusy\u001b[0m                              Traceback (most recent call last)",
      "File \u001b[0;32m/tmp/ipykernel_1261803/2799263322.py:7\u001b[0m\n\u001b[1;32m      5\u001b[0m         scope\u001b[38;5;241m.\u001b[39mcon()\n\u001b[1;32m      6\u001b[0m \u001b[38;5;28;01mexcept\u001b[39;00m \u001b[38;5;167;01mNameError\u001b[39;00m:\n\u001b[0;32m----> 7\u001b[0m     scope \u001b[38;5;241m=\u001b[39m \u001b[43mcw\u001b[49m\u001b[38;5;241;43m.\u001b[39;49m\u001b[43mscope\u001b[49m\u001b[43m(\u001b[49m\u001b[43m)\u001b[49m\n\u001b[1;32m      9\u001b[0m \u001b[38;5;28;01mtry\u001b[39;00m:\n\u001b[1;32m     10\u001b[0m     \u001b[38;5;28;01mif\u001b[39;00m SS_VER \u001b[38;5;241m==\u001b[39m \u001b[38;5;124m\"\u001b[39m\u001b[38;5;124mSS_VER_2_1\u001b[39m\u001b[38;5;124m\"\u001b[39m:\n",
      "File \u001b[0;32m~/Code/chipwhisperer/software/chipwhisperer/__init__.py:386\u001b[0m, in \u001b[0;36mscope\u001b[0;34m(scope_type, name, sn, idProduct, bitstream, force, prog_speed, **kwargs)\u001b[0m\n\u001b[1;32m    384\u001b[0m rtn : scopes\u001b[38;5;241m.\u001b[39mScopeTypes \u001b[38;5;241m=\u001b[39m scope_type()\n\u001b[1;32m    385\u001b[0m \u001b[38;5;28;01mtry\u001b[39;00m:\n\u001b[0;32m--> 386\u001b[0m     \u001b[43mrtn\u001b[49m\u001b[38;5;241;43m.\u001b[39;49m\u001b[43mcon\u001b[49m\u001b[43m(\u001b[49m\u001b[38;5;241;43m*\u001b[39;49m\u001b[38;5;241;43m*\u001b[39;49m\u001b[43mkwargs\u001b[49m\u001b[43m)\u001b[49m\n\u001b[1;32m    387\u001b[0m \u001b[38;5;28;01mexcept\u001b[39;00m \u001b[38;5;167;01mIOError\u001b[39;00m:\n\u001b[1;32m    388\u001b[0m     scope_logger\u001b[38;5;241m.\u001b[39merror(\u001b[38;5;124m\"\u001b[39m\u001b[38;5;124mChipWhisperer error state detected. Resetting and retrying connection...\u001b[39m\u001b[38;5;124m\"\u001b[39m)\n",
      "File \u001b[0;32m~/Code/chipwhisperer/software/chipwhisperer/capture/scopes/OpenADC.py:663\u001b[0m, in \u001b[0;36mOpenADC.con\u001b[0;34m(self, sn, idProduct, bitstream, force, prog_speed, **kwargs)\u001b[0m\n\u001b[1;32m    659\u001b[0m \u001b[38;5;28mself\u001b[39m\u001b[38;5;241m.\u001b[39m_saved_sn \u001b[38;5;241m=\u001b[39m sn\n\u001b[1;32m    661\u001b[0m \u001b[38;5;28mself\u001b[39m\u001b[38;5;241m.\u001b[39mscopetype \u001b[38;5;241m=\u001b[39m OpenADCInterface_NAEUSBChip()\n\u001b[0;32m--> 663\u001b[0m \u001b[38;5;28;43mself\u001b[39;49m\u001b[38;5;241;43m.\u001b[39;49m\u001b[43mscopetype\u001b[49m\u001b[38;5;241;43m.\u001b[39;49m\u001b[43mcon\u001b[49m\u001b[43m(\u001b[49m\u001b[43msn\u001b[49m\u001b[43m,\u001b[49m\u001b[43m \u001b[49m\u001b[43midProduct\u001b[49m\u001b[43m,\u001b[49m\u001b[43m \u001b[49m\u001b[43mbitstream\u001b[49m\u001b[43m,\u001b[49m\u001b[43m \u001b[49m\u001b[43mforce\u001b[49m\u001b[43m,\u001b[49m\u001b[43m \u001b[49m\u001b[43mprog_speed\u001b[49m\u001b[43m,\u001b[49m\u001b[43m \u001b[49m\u001b[38;5;241;43m*\u001b[39;49m\u001b[38;5;241;43m*\u001b[39;49m\u001b[43mkwargs\u001b[49m\u001b[43m)\u001b[49m\n\u001b[1;32m    664\u001b[0m \u001b[38;5;28mself\u001b[39m\u001b[38;5;241m.\u001b[39msc \u001b[38;5;241m=\u001b[39m OpenADCInterface(\u001b[38;5;28mself\u001b[39m\u001b[38;5;241m.\u001b[39mscopetype\u001b[38;5;241m.\u001b[39mser) \u001b[38;5;66;03m# important to instantiate this before other FPGA components, since this does an FPGA reset\u001b[39;00m\n\u001b[1;32m    665\u001b[0m \u001b[38;5;28mself\u001b[39m\u001b[38;5;241m.\u001b[39mhwinfo \u001b[38;5;241m=\u001b[39m HWInformation(\u001b[38;5;28mself\u001b[39m\u001b[38;5;241m.\u001b[39msc)\n",
      "File \u001b[0;32m~/Code/chipwhisperer/software/chipwhisperer/capture/scopes/openadc_interface/naeusbchip.py:64\u001b[0m, in \u001b[0;36mOpenADCInterface_NAEUSBChip.con\u001b[0;34m(self, sn, idProduct, bitstream, force, prog_speed, **kwargs)\u001b[0m\n\u001b[1;32m     62\u001b[0m \u001b[38;5;28;01melse\u001b[39;00m:\n\u001b[1;32m     63\u001b[0m     nae_products \u001b[38;5;241m=\u001b[39m [\u001b[38;5;241m0xACE2\u001b[39m, \u001b[38;5;241m0xACE3\u001b[39m, \u001b[38;5;241m0xACE5\u001b[39m]\n\u001b[0;32m---> 64\u001b[0m found_id \u001b[38;5;241m=\u001b[39m \u001b[38;5;28;43mself\u001b[39;49m\u001b[38;5;241;43m.\u001b[39;49m\u001b[43mser\u001b[49m\u001b[38;5;241;43m.\u001b[39;49m\u001b[43mcon\u001b[49m\u001b[43m(\u001b[49m\u001b[43midProduct\u001b[49m\u001b[38;5;241;43m=\u001b[39;49m\u001b[43mnae_products\u001b[49m\u001b[43m,\u001b[49m\u001b[43m \u001b[49m\u001b[43mserial_number\u001b[49m\u001b[38;5;241;43m=\u001b[39;49m\u001b[43msn\u001b[49m\u001b[43m,\u001b[49m\u001b[43m \u001b[49m\u001b[38;5;241;43m*\u001b[39;49m\u001b[38;5;241;43m*\u001b[39;49m\u001b[43mkwargs\u001b[49m\u001b[43m)\u001b[49m\n\u001b[1;32m     65\u001b[0m \u001b[38;5;28;01mif\u001b[39;00m force:\n\u001b[1;32m     66\u001b[0m     \u001b[38;5;28mself\u001b[39m\u001b[38;5;241m.\u001b[39mfpga\u001b[38;5;241m.\u001b[39meraseFPGA()\n",
      "File \u001b[0;32m~/Code/chipwhisperer/software/chipwhisperer/hardware/naeusb/naeusb.py:782\u001b[0m, in \u001b[0;36mNAEUSB.con\u001b[0;34m(self, idProduct, connect_to_first, serial_number, hw_location, **kwargs)\u001b[0m\n\u001b[1;32m    777\u001b[0m \u001b[38;5;28;01mdef\u001b[39;00m \u001b[38;5;21mcon\u001b[39m(\u001b[38;5;28mself\u001b[39m, idProduct : Tuple[\u001b[38;5;28mint\u001b[39m]\u001b[38;5;241m=\u001b[39m(\u001b[38;5;241m0xACE2\u001b[39m,), connect_to_first : \u001b[38;5;28mbool\u001b[39m\u001b[38;5;241m=\u001b[39m\u001b[38;5;28;01mFalse\u001b[39;00m, \n\u001b[1;32m    778\u001b[0m     serial_number : Optional[\u001b[38;5;28mstr\u001b[39m]\u001b[38;5;241m=\u001b[39m\u001b[38;5;28;01mNone\u001b[39;00m, hw_location : Optional[Tuple[\u001b[38;5;28mint\u001b[39m, \u001b[38;5;28mint\u001b[39m]]\u001b[38;5;241m=\u001b[39m\u001b[38;5;28;01mNone\u001b[39;00m, \u001b[38;5;241m*\u001b[39m\u001b[38;5;241m*\u001b[39mkwargs) \u001b[38;5;241m-\u001b[39m\u001b[38;5;241m>\u001b[39m \u001b[38;5;28mint\u001b[39m:\n\u001b[1;32m    779\u001b[0m \u001b[38;5;250m    \u001b[39m\u001b[38;5;124;03m\"\"\"\u001b[39;00m\n\u001b[1;32m    780\u001b[0m \u001b[38;5;124;03m    Connect to device using default VID/PID\u001b[39;00m\n\u001b[1;32m    781\u001b[0m \u001b[38;5;124;03m    \"\"\"\u001b[39;00m\n\u001b[0;32m--> 782\u001b[0m     \u001b[38;5;28;43mself\u001b[39;49m\u001b[38;5;241;43m.\u001b[39;49m\u001b[43musbtx\u001b[49m\u001b[38;5;241;43m.\u001b[39;49m\u001b[43mopen\u001b[49m\u001b[43m(\u001b[49m\u001b[43midProduct\u001b[49m\u001b[38;5;241;43m=\u001b[39;49m\u001b[43midProduct\u001b[49m\u001b[43m,\u001b[49m\u001b[43m \u001b[49m\u001b[43mserial_number\u001b[49m\u001b[38;5;241;43m=\u001b[39;49m\u001b[43mserial_number\u001b[49m\u001b[43m,\u001b[49m\u001b[43m \u001b[49m\u001b[43mconnect_to_first\u001b[49m\u001b[38;5;241;43m=\u001b[39;49m\u001b[38;5;28;43;01mTrue\u001b[39;49;00m\u001b[43m,\u001b[49m\u001b[43m \u001b[49m\u001b[43mhw_location\u001b[49m\u001b[38;5;241;43m=\u001b[39;49m\u001b[43mhw_location\u001b[49m\u001b[43m)\u001b[49m\n\u001b[1;32m    785\u001b[0m     \u001b[38;5;28mself\u001b[39m\u001b[38;5;241m.\u001b[39msnum\u001b[38;5;241m=\u001b[39m\u001b[38;5;28mself\u001b[39m\u001b[38;5;241m.\u001b[39musbtx\u001b[38;5;241m.\u001b[39msn\n\u001b[1;32m    786\u001b[0m     fwver \u001b[38;5;241m=\u001b[39m \u001b[38;5;28mself\u001b[39m\u001b[38;5;241m.\u001b[39mreadFwVersion()\n",
      "File \u001b[0;32m~/Code/chipwhisperer/software/chipwhisperer/hardware/naeusb/naeusb.py:436\u001b[0m, in \u001b[0;36mNAEUSB_Backend.open\u001b[0;34m(self, serial_number, idProduct, connect_to_first, hw_location)\u001b[0m\n\u001b[1;32m    433\u001b[0m \u001b[38;5;28mself\u001b[39m\u001b[38;5;241m.\u001b[39m_usbdev \u001b[38;5;241m=\u001b[39m \u001b[38;5;28mself\u001b[39m\u001b[38;5;241m.\u001b[39mhandle\n\u001b[1;32m    435\u001b[0m \u001b[38;5;66;03m# claim bulk interface, may not be necessary?\u001b[39;00m\n\u001b[0;32m--> 436\u001b[0m \u001b[38;5;28;43mself\u001b[39;49m\u001b[38;5;241;43m.\u001b[39;49m\u001b[43mhandle\u001b[49m\u001b[38;5;241;43m.\u001b[39;49m\u001b[43mclaimInterface\u001b[49m\u001b[43m(\u001b[49m\u001b[38;5;241;43m0\u001b[39;49m\u001b[43m)\u001b[49m\n\u001b[1;32m    438\u001b[0m \u001b[38;5;28mself\u001b[39m\u001b[38;5;241m.\u001b[39msn \u001b[38;5;241m=\u001b[39m \u001b[38;5;28mself\u001b[39m\u001b[38;5;241m.\u001b[39mhandle\u001b[38;5;241m.\u001b[39mgetSerialNumber()\n\u001b[1;32m    439\u001b[0m \u001b[38;5;28mself\u001b[39m\u001b[38;5;241m.\u001b[39mpid \u001b[38;5;241m=\u001b[39m \u001b[38;5;28mself\u001b[39m\u001b[38;5;241m.\u001b[39mdevice\u001b[38;5;241m.\u001b[39mgetProductID()\n",
      "File \u001b[0;32m~/.local/lib/python3.10/site-packages/usb1/__init__.py:1146\u001b[0m, in \u001b[0;36mUSBDeviceHandle.claimInterface\u001b[0;34m(self, interface)\u001b[0m\n\u001b[1;32m   1136\u001b[0m \u001b[38;5;28;01mdef\u001b[39;00m \u001b[38;5;21mclaimInterface\u001b[39m(\u001b[38;5;28mself\u001b[39m, interface):\n\u001b[1;32m   1137\u001b[0m \u001b[38;5;250m    \u001b[39m\u001b[38;5;124;03m\"\"\"\u001b[39;00m\n\u001b[1;32m   1138\u001b[0m \u001b[38;5;124;03m    Claim (= get exclusive access to) given interface number. Required to\u001b[39;00m\n\u001b[1;32m   1139\u001b[0m \u001b[38;5;124;03m    receive/send data.\u001b[39;00m\n\u001b[0;32m   (...)\u001b[0m\n\u001b[1;32m   1144\u001b[0m \u001b[38;5;124;03m        # handle.releaseInterface(0) gets automatically called\u001b[39;00m\n\u001b[1;32m   1145\u001b[0m \u001b[38;5;124;03m    \"\"\"\u001b[39;00m\n\u001b[0;32m-> 1146\u001b[0m     \u001b[43mmayRaiseUSBError\u001b[49m\u001b[43m(\u001b[49m\n\u001b[1;32m   1147\u001b[0m \u001b[43m        \u001b[49m\u001b[43mlibusb1\u001b[49m\u001b[38;5;241;43m.\u001b[39;49m\u001b[43mlibusb_claim_interface\u001b[49m\u001b[43m(\u001b[49m\u001b[38;5;28;43mself\u001b[39;49m\u001b[38;5;241;43m.\u001b[39;49m\u001b[43m__handle\u001b[49m\u001b[43m,\u001b[49m\u001b[43m \u001b[49m\u001b[43minterface\u001b[49m\u001b[43m)\u001b[49m\u001b[43m,\u001b[49m\n\u001b[1;32m   1148\u001b[0m \u001b[43m    \u001b[49m\u001b[43m)\u001b[49m\n\u001b[1;32m   1149\u001b[0m     \u001b[38;5;28;01mreturn\u001b[39;00m _ReleaseInterface(\u001b[38;5;28mself\u001b[39m, interface)\n",
      "File \u001b[0;32m~/.local/lib/python3.10/site-packages/usb1/__init__.py:127\u001b[0m, in \u001b[0;36mmayRaiseUSBError\u001b[0;34m(value, __raiseUSBError)\u001b[0m\n\u001b[1;32m    121\u001b[0m \u001b[38;5;28;01mdef\u001b[39;00m \u001b[38;5;21mmayRaiseUSBError\u001b[39m(\n\u001b[1;32m    122\u001b[0m         value,\n\u001b[1;32m    123\u001b[0m         \u001b[38;5;66;03m# Avoid globals lookup on call to work during interpreter shutdown.\u001b[39;00m\n\u001b[1;32m    124\u001b[0m         __raiseUSBError\u001b[38;5;241m=\u001b[39mraiseUSBError,\n\u001b[1;32m    125\u001b[0m     ):\n\u001b[1;32m    126\u001b[0m     \u001b[38;5;28;01mif\u001b[39;00m value \u001b[38;5;241m<\u001b[39m \u001b[38;5;241m0\u001b[39m:\n\u001b[0;32m--> 127\u001b[0m         \u001b[43m__raiseUSBError\u001b[49m\u001b[43m(\u001b[49m\u001b[43mvalue\u001b[49m\u001b[43m)\u001b[49m\n\u001b[1;32m    128\u001b[0m     \u001b[38;5;28;01mreturn\u001b[39;00m value\n",
      "File \u001b[0;32m~/.local/lib/python3.10/site-packages/usb1/__init__.py:119\u001b[0m, in \u001b[0;36mraiseUSBError\u001b[0;34m(value, __STATUS_TO_EXCEPTION_DICT, __USBError)\u001b[0m\n\u001b[1;32m    113\u001b[0m \u001b[38;5;28;01mdef\u001b[39;00m \u001b[38;5;21mraiseUSBError\u001b[39m(\n\u001b[1;32m    114\u001b[0m         value,\n\u001b[1;32m    115\u001b[0m         \u001b[38;5;66;03m# Avoid globals lookup on call to work during interpreter shutdown.\u001b[39;00m\n\u001b[1;32m    116\u001b[0m         __STATUS_TO_EXCEPTION_DICT\u001b[38;5;241m=\u001b[39mSTATUS_TO_EXCEPTION_DICT,\n\u001b[1;32m    117\u001b[0m         __USBError\u001b[38;5;241m=\u001b[39mUSBError,\n\u001b[1;32m    118\u001b[0m     ): \u001b[38;5;66;03m# pylint: disable=dangerous-default-value\u001b[39;00m\n\u001b[0;32m--> 119\u001b[0m     \u001b[38;5;28;01mraise\u001b[39;00m __STATUS_TO_EXCEPTION_DICT\u001b[38;5;241m.\u001b[39mget(value, __USBError)(value)\n",
      "\u001b[0;31mUSBErrorBusy\u001b[0m: LIBUSB_ERROR_BUSY [-6]"
     ]
    },
    {
     "ename": "USBErrorBusy",
     "evalue": "LIBUSB_ERROR_BUSY [-6]",
     "output_type": "error",
     "traceback": [
      "\u001b[0;31m---------------------------------------------------------------------------\u001b[0m",
      "\u001b[0;31mNameError\u001b[0m                                 Traceback (most recent call last)",
      "File \u001b[0;32m/tmp/ipykernel_1261803/2799263322.py:4\u001b[0m\n\u001b[1;32m      3\u001b[0m \u001b[38;5;28;01mtry\u001b[39;00m:\n\u001b[0;32m----> 4\u001b[0m     \u001b[38;5;28;01mif\u001b[39;00m \u001b[38;5;129;01mnot\u001b[39;00m \u001b[43mscope\u001b[49m\u001b[38;5;241m.\u001b[39mconnectStatus:\n\u001b[1;32m      5\u001b[0m         scope\u001b[38;5;241m.\u001b[39mcon()\n",
      "\u001b[0;31mNameError\u001b[0m: name 'scope' is not defined",
      "\nDuring handling of the above exception, another exception occurred:\n",
      "\u001b[0;31mUSBErrorBusy\u001b[0m                              Traceback (most recent call last)",
      "Cell \u001b[0;32mIn[2], line 1\u001b[0m\n\u001b[0;32m----> 1\u001b[0m \u001b[43mget_ipython\u001b[49m\u001b[43m(\u001b[49m\u001b[43m)\u001b[49m\u001b[38;5;241;43m.\u001b[39;49m\u001b[43mrun_line_magic\u001b[49m\u001b[43m(\u001b[49m\u001b[38;5;124;43m'\u001b[39;49m\u001b[38;5;124;43mrun\u001b[39;49m\u001b[38;5;124;43m'\u001b[39;49m\u001b[43m,\u001b[49m\u001b[43m \u001b[49m\u001b[38;5;124;43m'\u001b[39;49m\u001b[38;5;124;43m\"\u001b[39;49m\u001b[38;5;124;43m../Setup_Scripts/Setup_Generic.ipynb\u001b[39;49m\u001b[38;5;124;43m\"\u001b[39;49m\u001b[38;5;124;43m'\u001b[39;49m\u001b[43m)\u001b[49m\n",
      "File \u001b[0;32m~/.local/lib/python3.10/site-packages/IPython/core/interactiveshell.py:2417\u001b[0m, in \u001b[0;36mInteractiveShell.run_line_magic\u001b[0;34m(self, magic_name, line, _stack_depth)\u001b[0m\n\u001b[1;32m   2415\u001b[0m     kwargs[\u001b[38;5;124m'\u001b[39m\u001b[38;5;124mlocal_ns\u001b[39m\u001b[38;5;124m'\u001b[39m] \u001b[38;5;241m=\u001b[39m \u001b[38;5;28mself\u001b[39m\u001b[38;5;241m.\u001b[39mget_local_scope(stack_depth)\n\u001b[1;32m   2416\u001b[0m \u001b[38;5;28;01mwith\u001b[39;00m \u001b[38;5;28mself\u001b[39m\u001b[38;5;241m.\u001b[39mbuiltin_trap:\n\u001b[0;32m-> 2417\u001b[0m     result \u001b[38;5;241m=\u001b[39m \u001b[43mfn\u001b[49m\u001b[43m(\u001b[49m\u001b[38;5;241;43m*\u001b[39;49m\u001b[43margs\u001b[49m\u001b[43m,\u001b[49m\u001b[43m \u001b[49m\u001b[38;5;241;43m*\u001b[39;49m\u001b[38;5;241;43m*\u001b[39;49m\u001b[43mkwargs\u001b[49m\u001b[43m)\u001b[49m\n\u001b[1;32m   2419\u001b[0m \u001b[38;5;66;03m# The code below prevents the output from being displayed\u001b[39;00m\n\u001b[1;32m   2420\u001b[0m \u001b[38;5;66;03m# when using magics with decodator @output_can_be_silenced\u001b[39;00m\n\u001b[1;32m   2421\u001b[0m \u001b[38;5;66;03m# when the last Python token in the expression is a ';'.\u001b[39;00m\n\u001b[1;32m   2422\u001b[0m \u001b[38;5;28;01mif\u001b[39;00m \u001b[38;5;28mgetattr\u001b[39m(fn, magic\u001b[38;5;241m.\u001b[39mMAGIC_OUTPUT_CAN_BE_SILENCED, \u001b[38;5;28;01mFalse\u001b[39;00m):\n",
      "File \u001b[0;32m~/.local/lib/python3.10/site-packages/IPython/core/magics/execution.py:722\u001b[0m, in \u001b[0;36mExecutionMagics.run\u001b[0;34m(self, parameter_s, runner, file_finder)\u001b[0m\n\u001b[1;32m    720\u001b[0m     \u001b[38;5;28;01mwith\u001b[39;00m preserve_keys(\u001b[38;5;28mself\u001b[39m\u001b[38;5;241m.\u001b[39mshell\u001b[38;5;241m.\u001b[39muser_ns, \u001b[38;5;124m'\u001b[39m\u001b[38;5;124m__file__\u001b[39m\u001b[38;5;124m'\u001b[39m):\n\u001b[1;32m    721\u001b[0m         \u001b[38;5;28mself\u001b[39m\u001b[38;5;241m.\u001b[39mshell\u001b[38;5;241m.\u001b[39muser_ns[\u001b[38;5;124m'\u001b[39m\u001b[38;5;124m__file__\u001b[39m\u001b[38;5;124m'\u001b[39m] \u001b[38;5;241m=\u001b[39m filename\n\u001b[0;32m--> 722\u001b[0m         \u001b[38;5;28;43mself\u001b[39;49m\u001b[38;5;241;43m.\u001b[39;49m\u001b[43mshell\u001b[49m\u001b[38;5;241;43m.\u001b[39;49m\u001b[43msafe_execfile_ipy\u001b[49m\u001b[43m(\u001b[49m\u001b[43mfilename\u001b[49m\u001b[43m,\u001b[49m\u001b[43m \u001b[49m\u001b[43mraise_exceptions\u001b[49m\u001b[38;5;241;43m=\u001b[39;49m\u001b[38;5;28;43;01mTrue\u001b[39;49;00m\u001b[43m)\u001b[49m\n\u001b[1;32m    723\u001b[0m     \u001b[38;5;28;01mreturn\u001b[39;00m\n\u001b[1;32m    725\u001b[0m \u001b[38;5;66;03m# Control the response to exit() calls made by the script being run\u001b[39;00m\n",
      "File \u001b[0;32m~/.local/lib/python3.10/site-packages/IPython/core/interactiveshell.py:2939\u001b[0m, in \u001b[0;36mInteractiveShell.safe_execfile_ipy\u001b[0;34m(self, fname, shell_futures, raise_exceptions)\u001b[0m\n\u001b[1;32m   2937\u001b[0m result \u001b[38;5;241m=\u001b[39m \u001b[38;5;28mself\u001b[39m\u001b[38;5;241m.\u001b[39mrun_cell(cell, silent\u001b[38;5;241m=\u001b[39m\u001b[38;5;28;01mTrue\u001b[39;00m, shell_futures\u001b[38;5;241m=\u001b[39mshell_futures)\n\u001b[1;32m   2938\u001b[0m \u001b[38;5;28;01mif\u001b[39;00m raise_exceptions:\n\u001b[0;32m-> 2939\u001b[0m     \u001b[43mresult\u001b[49m\u001b[38;5;241;43m.\u001b[39;49m\u001b[43mraise_error\u001b[49m\u001b[43m(\u001b[49m\u001b[43m)\u001b[49m\n\u001b[1;32m   2940\u001b[0m \u001b[38;5;28;01melif\u001b[39;00m \u001b[38;5;129;01mnot\u001b[39;00m result\u001b[38;5;241m.\u001b[39msuccess:\n\u001b[1;32m   2941\u001b[0m     \u001b[38;5;28;01mbreak\u001b[39;00m\n",
      "File \u001b[0;32m~/.local/lib/python3.10/site-packages/IPython/core/interactiveshell.py:268\u001b[0m, in \u001b[0;36mExecutionResult.raise_error\u001b[0;34m(self)\u001b[0m\n\u001b[1;32m    266\u001b[0m     \u001b[38;5;28;01mraise\u001b[39;00m \u001b[38;5;28mself\u001b[39m\u001b[38;5;241m.\u001b[39merror_before_exec\n\u001b[1;32m    267\u001b[0m \u001b[38;5;28;01mif\u001b[39;00m \u001b[38;5;28mself\u001b[39m\u001b[38;5;241m.\u001b[39merror_in_exec \u001b[38;5;129;01mis\u001b[39;00m \u001b[38;5;129;01mnot\u001b[39;00m \u001b[38;5;28;01mNone\u001b[39;00m:\n\u001b[0;32m--> 268\u001b[0m     \u001b[38;5;28;01mraise\u001b[39;00m \u001b[38;5;28mself\u001b[39m\u001b[38;5;241m.\u001b[39merror_in_exec\n",
      "    \u001b[0;31m[... skipping hidden 1 frame]\u001b[0m\n",
      "File \u001b[0;32m/tmp/ipykernel_1261803/2799263322.py:7\u001b[0m\n\u001b[1;32m      5\u001b[0m         scope\u001b[38;5;241m.\u001b[39mcon()\n\u001b[1;32m      6\u001b[0m \u001b[38;5;28;01mexcept\u001b[39;00m \u001b[38;5;167;01mNameError\u001b[39;00m:\n\u001b[0;32m----> 7\u001b[0m     scope \u001b[38;5;241m=\u001b[39m \u001b[43mcw\u001b[49m\u001b[38;5;241;43m.\u001b[39;49m\u001b[43mscope\u001b[49m\u001b[43m(\u001b[49m\u001b[43m)\u001b[49m\n\u001b[1;32m      9\u001b[0m \u001b[38;5;28;01mtry\u001b[39;00m:\n\u001b[1;32m     10\u001b[0m     \u001b[38;5;28;01mif\u001b[39;00m SS_VER \u001b[38;5;241m==\u001b[39m \u001b[38;5;124m\"\u001b[39m\u001b[38;5;124mSS_VER_2_1\u001b[39m\u001b[38;5;124m\"\u001b[39m:\n",
      "File \u001b[0;32m~/Code/chipwhisperer/software/chipwhisperer/__init__.py:386\u001b[0m, in \u001b[0;36mscope\u001b[0;34m(scope_type, name, sn, idProduct, bitstream, force, prog_speed, **kwargs)\u001b[0m\n\u001b[1;32m    384\u001b[0m rtn : scopes\u001b[38;5;241m.\u001b[39mScopeTypes \u001b[38;5;241m=\u001b[39m scope_type()\n\u001b[1;32m    385\u001b[0m \u001b[38;5;28;01mtry\u001b[39;00m:\n\u001b[0;32m--> 386\u001b[0m     \u001b[43mrtn\u001b[49m\u001b[38;5;241;43m.\u001b[39;49m\u001b[43mcon\u001b[49m\u001b[43m(\u001b[49m\u001b[38;5;241;43m*\u001b[39;49m\u001b[38;5;241;43m*\u001b[39;49m\u001b[43mkwargs\u001b[49m\u001b[43m)\u001b[49m\n\u001b[1;32m    387\u001b[0m \u001b[38;5;28;01mexcept\u001b[39;00m \u001b[38;5;167;01mIOError\u001b[39;00m:\n\u001b[1;32m    388\u001b[0m     scope_logger\u001b[38;5;241m.\u001b[39merror(\u001b[38;5;124m\"\u001b[39m\u001b[38;5;124mChipWhisperer error state detected. Resetting and retrying connection...\u001b[39m\u001b[38;5;124m\"\u001b[39m)\n",
      "File \u001b[0;32m~/Code/chipwhisperer/software/chipwhisperer/capture/scopes/OpenADC.py:663\u001b[0m, in \u001b[0;36mOpenADC.con\u001b[0;34m(self, sn, idProduct, bitstream, force, prog_speed, **kwargs)\u001b[0m\n\u001b[1;32m    659\u001b[0m \u001b[38;5;28mself\u001b[39m\u001b[38;5;241m.\u001b[39m_saved_sn \u001b[38;5;241m=\u001b[39m sn\n\u001b[1;32m    661\u001b[0m \u001b[38;5;28mself\u001b[39m\u001b[38;5;241m.\u001b[39mscopetype \u001b[38;5;241m=\u001b[39m OpenADCInterface_NAEUSBChip()\n\u001b[0;32m--> 663\u001b[0m \u001b[38;5;28;43mself\u001b[39;49m\u001b[38;5;241;43m.\u001b[39;49m\u001b[43mscopetype\u001b[49m\u001b[38;5;241;43m.\u001b[39;49m\u001b[43mcon\u001b[49m\u001b[43m(\u001b[49m\u001b[43msn\u001b[49m\u001b[43m,\u001b[49m\u001b[43m \u001b[49m\u001b[43midProduct\u001b[49m\u001b[43m,\u001b[49m\u001b[43m \u001b[49m\u001b[43mbitstream\u001b[49m\u001b[43m,\u001b[49m\u001b[43m \u001b[49m\u001b[43mforce\u001b[49m\u001b[43m,\u001b[49m\u001b[43m \u001b[49m\u001b[43mprog_speed\u001b[49m\u001b[43m,\u001b[49m\u001b[43m \u001b[49m\u001b[38;5;241;43m*\u001b[39;49m\u001b[38;5;241;43m*\u001b[39;49m\u001b[43mkwargs\u001b[49m\u001b[43m)\u001b[49m\n\u001b[1;32m    664\u001b[0m \u001b[38;5;28mself\u001b[39m\u001b[38;5;241m.\u001b[39msc \u001b[38;5;241m=\u001b[39m OpenADCInterface(\u001b[38;5;28mself\u001b[39m\u001b[38;5;241m.\u001b[39mscopetype\u001b[38;5;241m.\u001b[39mser) \u001b[38;5;66;03m# important to instantiate this before other FPGA components, since this does an FPGA reset\u001b[39;00m\n\u001b[1;32m    665\u001b[0m \u001b[38;5;28mself\u001b[39m\u001b[38;5;241m.\u001b[39mhwinfo \u001b[38;5;241m=\u001b[39m HWInformation(\u001b[38;5;28mself\u001b[39m\u001b[38;5;241m.\u001b[39msc)\n",
      "File \u001b[0;32m~/Code/chipwhisperer/software/chipwhisperer/capture/scopes/openadc_interface/naeusbchip.py:64\u001b[0m, in \u001b[0;36mOpenADCInterface_NAEUSBChip.con\u001b[0;34m(self, sn, idProduct, bitstream, force, prog_speed, **kwargs)\u001b[0m\n\u001b[1;32m     62\u001b[0m \u001b[38;5;28;01melse\u001b[39;00m:\n\u001b[1;32m     63\u001b[0m     nae_products \u001b[38;5;241m=\u001b[39m [\u001b[38;5;241m0xACE2\u001b[39m, \u001b[38;5;241m0xACE3\u001b[39m, \u001b[38;5;241m0xACE5\u001b[39m]\n\u001b[0;32m---> 64\u001b[0m found_id \u001b[38;5;241m=\u001b[39m \u001b[38;5;28;43mself\u001b[39;49m\u001b[38;5;241;43m.\u001b[39;49m\u001b[43mser\u001b[49m\u001b[38;5;241;43m.\u001b[39;49m\u001b[43mcon\u001b[49m\u001b[43m(\u001b[49m\u001b[43midProduct\u001b[49m\u001b[38;5;241;43m=\u001b[39;49m\u001b[43mnae_products\u001b[49m\u001b[43m,\u001b[49m\u001b[43m \u001b[49m\u001b[43mserial_number\u001b[49m\u001b[38;5;241;43m=\u001b[39;49m\u001b[43msn\u001b[49m\u001b[43m,\u001b[49m\u001b[43m \u001b[49m\u001b[38;5;241;43m*\u001b[39;49m\u001b[38;5;241;43m*\u001b[39;49m\u001b[43mkwargs\u001b[49m\u001b[43m)\u001b[49m\n\u001b[1;32m     65\u001b[0m \u001b[38;5;28;01mif\u001b[39;00m force:\n\u001b[1;32m     66\u001b[0m     \u001b[38;5;28mself\u001b[39m\u001b[38;5;241m.\u001b[39mfpga\u001b[38;5;241m.\u001b[39meraseFPGA()\n",
      "File \u001b[0;32m~/Code/chipwhisperer/software/chipwhisperer/hardware/naeusb/naeusb.py:782\u001b[0m, in \u001b[0;36mNAEUSB.con\u001b[0;34m(self, idProduct, connect_to_first, serial_number, hw_location, **kwargs)\u001b[0m\n\u001b[1;32m    777\u001b[0m \u001b[38;5;28;01mdef\u001b[39;00m \u001b[38;5;21mcon\u001b[39m(\u001b[38;5;28mself\u001b[39m, idProduct : Tuple[\u001b[38;5;28mint\u001b[39m]\u001b[38;5;241m=\u001b[39m(\u001b[38;5;241m0xACE2\u001b[39m,), connect_to_first : \u001b[38;5;28mbool\u001b[39m\u001b[38;5;241m=\u001b[39m\u001b[38;5;28;01mFalse\u001b[39;00m, \n\u001b[1;32m    778\u001b[0m     serial_number : Optional[\u001b[38;5;28mstr\u001b[39m]\u001b[38;5;241m=\u001b[39m\u001b[38;5;28;01mNone\u001b[39;00m, hw_location : Optional[Tuple[\u001b[38;5;28mint\u001b[39m, \u001b[38;5;28mint\u001b[39m]]\u001b[38;5;241m=\u001b[39m\u001b[38;5;28;01mNone\u001b[39;00m, \u001b[38;5;241m*\u001b[39m\u001b[38;5;241m*\u001b[39mkwargs) \u001b[38;5;241m-\u001b[39m\u001b[38;5;241m>\u001b[39m \u001b[38;5;28mint\u001b[39m:\n\u001b[1;32m    779\u001b[0m \u001b[38;5;250m    \u001b[39m\u001b[38;5;124;03m\"\"\"\u001b[39;00m\n\u001b[1;32m    780\u001b[0m \u001b[38;5;124;03m    Connect to device using default VID/PID\u001b[39;00m\n\u001b[1;32m    781\u001b[0m \u001b[38;5;124;03m    \"\"\"\u001b[39;00m\n\u001b[0;32m--> 782\u001b[0m     \u001b[38;5;28;43mself\u001b[39;49m\u001b[38;5;241;43m.\u001b[39;49m\u001b[43musbtx\u001b[49m\u001b[38;5;241;43m.\u001b[39;49m\u001b[43mopen\u001b[49m\u001b[43m(\u001b[49m\u001b[43midProduct\u001b[49m\u001b[38;5;241;43m=\u001b[39;49m\u001b[43midProduct\u001b[49m\u001b[43m,\u001b[49m\u001b[43m \u001b[49m\u001b[43mserial_number\u001b[49m\u001b[38;5;241;43m=\u001b[39;49m\u001b[43mserial_number\u001b[49m\u001b[43m,\u001b[49m\u001b[43m \u001b[49m\u001b[43mconnect_to_first\u001b[49m\u001b[38;5;241;43m=\u001b[39;49m\u001b[38;5;28;43;01mTrue\u001b[39;49;00m\u001b[43m,\u001b[49m\u001b[43m \u001b[49m\u001b[43mhw_location\u001b[49m\u001b[38;5;241;43m=\u001b[39;49m\u001b[43mhw_location\u001b[49m\u001b[43m)\u001b[49m\n\u001b[1;32m    785\u001b[0m     \u001b[38;5;28mself\u001b[39m\u001b[38;5;241m.\u001b[39msnum\u001b[38;5;241m=\u001b[39m\u001b[38;5;28mself\u001b[39m\u001b[38;5;241m.\u001b[39musbtx\u001b[38;5;241m.\u001b[39msn\n\u001b[1;32m    786\u001b[0m     fwver \u001b[38;5;241m=\u001b[39m \u001b[38;5;28mself\u001b[39m\u001b[38;5;241m.\u001b[39mreadFwVersion()\n",
      "File \u001b[0;32m~/Code/chipwhisperer/software/chipwhisperer/hardware/naeusb/naeusb.py:436\u001b[0m, in \u001b[0;36mNAEUSB_Backend.open\u001b[0;34m(self, serial_number, idProduct, connect_to_first, hw_location)\u001b[0m\n\u001b[1;32m    433\u001b[0m \u001b[38;5;28mself\u001b[39m\u001b[38;5;241m.\u001b[39m_usbdev \u001b[38;5;241m=\u001b[39m \u001b[38;5;28mself\u001b[39m\u001b[38;5;241m.\u001b[39mhandle\n\u001b[1;32m    435\u001b[0m \u001b[38;5;66;03m# claim bulk interface, may not be necessary?\u001b[39;00m\n\u001b[0;32m--> 436\u001b[0m \u001b[38;5;28;43mself\u001b[39;49m\u001b[38;5;241;43m.\u001b[39;49m\u001b[43mhandle\u001b[49m\u001b[38;5;241;43m.\u001b[39;49m\u001b[43mclaimInterface\u001b[49m\u001b[43m(\u001b[49m\u001b[38;5;241;43m0\u001b[39;49m\u001b[43m)\u001b[49m\n\u001b[1;32m    438\u001b[0m \u001b[38;5;28mself\u001b[39m\u001b[38;5;241m.\u001b[39msn \u001b[38;5;241m=\u001b[39m \u001b[38;5;28mself\u001b[39m\u001b[38;5;241m.\u001b[39mhandle\u001b[38;5;241m.\u001b[39mgetSerialNumber()\n\u001b[1;32m    439\u001b[0m \u001b[38;5;28mself\u001b[39m\u001b[38;5;241m.\u001b[39mpid \u001b[38;5;241m=\u001b[39m \u001b[38;5;28mself\u001b[39m\u001b[38;5;241m.\u001b[39mdevice\u001b[38;5;241m.\u001b[39mgetProductID()\n",
      "File \u001b[0;32m~/.local/lib/python3.10/site-packages/usb1/__init__.py:1146\u001b[0m, in \u001b[0;36mUSBDeviceHandle.claimInterface\u001b[0;34m(self, interface)\u001b[0m\n\u001b[1;32m   1136\u001b[0m \u001b[38;5;28;01mdef\u001b[39;00m \u001b[38;5;21mclaimInterface\u001b[39m(\u001b[38;5;28mself\u001b[39m, interface):\n\u001b[1;32m   1137\u001b[0m \u001b[38;5;250m    \u001b[39m\u001b[38;5;124;03m\"\"\"\u001b[39;00m\n\u001b[1;32m   1138\u001b[0m \u001b[38;5;124;03m    Claim (= get exclusive access to) given interface number. Required to\u001b[39;00m\n\u001b[1;32m   1139\u001b[0m \u001b[38;5;124;03m    receive/send data.\u001b[39;00m\n\u001b[0;32m   (...)\u001b[0m\n\u001b[1;32m   1144\u001b[0m \u001b[38;5;124;03m        # handle.releaseInterface(0) gets automatically called\u001b[39;00m\n\u001b[1;32m   1145\u001b[0m \u001b[38;5;124;03m    \"\"\"\u001b[39;00m\n\u001b[0;32m-> 1146\u001b[0m     \u001b[43mmayRaiseUSBError\u001b[49m\u001b[43m(\u001b[49m\n\u001b[1;32m   1147\u001b[0m \u001b[43m        \u001b[49m\u001b[43mlibusb1\u001b[49m\u001b[38;5;241;43m.\u001b[39;49m\u001b[43mlibusb_claim_interface\u001b[49m\u001b[43m(\u001b[49m\u001b[38;5;28;43mself\u001b[39;49m\u001b[38;5;241;43m.\u001b[39;49m\u001b[43m__handle\u001b[49m\u001b[43m,\u001b[49m\u001b[43m \u001b[49m\u001b[43minterface\u001b[49m\u001b[43m)\u001b[49m\u001b[43m,\u001b[49m\n\u001b[1;32m   1148\u001b[0m \u001b[43m    \u001b[49m\u001b[43m)\u001b[49m\n\u001b[1;32m   1149\u001b[0m     \u001b[38;5;28;01mreturn\u001b[39;00m _ReleaseInterface(\u001b[38;5;28mself\u001b[39m, interface)\n",
      "File \u001b[0;32m~/.local/lib/python3.10/site-packages/usb1/__init__.py:127\u001b[0m, in \u001b[0;36mmayRaiseUSBError\u001b[0;34m(value, __raiseUSBError)\u001b[0m\n\u001b[1;32m    121\u001b[0m \u001b[38;5;28;01mdef\u001b[39;00m \u001b[38;5;21mmayRaiseUSBError\u001b[39m(\n\u001b[1;32m    122\u001b[0m         value,\n\u001b[1;32m    123\u001b[0m         \u001b[38;5;66;03m# Avoid globals lookup on call to work during interpreter shutdown.\u001b[39;00m\n\u001b[1;32m    124\u001b[0m         __raiseUSBError\u001b[38;5;241m=\u001b[39mraiseUSBError,\n\u001b[1;32m    125\u001b[0m     ):\n\u001b[1;32m    126\u001b[0m     \u001b[38;5;28;01mif\u001b[39;00m value \u001b[38;5;241m<\u001b[39m \u001b[38;5;241m0\u001b[39m:\n\u001b[0;32m--> 127\u001b[0m         \u001b[43m__raiseUSBError\u001b[49m\u001b[43m(\u001b[49m\u001b[43mvalue\u001b[49m\u001b[43m)\u001b[49m\n\u001b[1;32m    128\u001b[0m     \u001b[38;5;28;01mreturn\u001b[39;00m value\n",
      "File \u001b[0;32m~/.local/lib/python3.10/site-packages/usb1/__init__.py:119\u001b[0m, in \u001b[0;36mraiseUSBError\u001b[0;34m(value, __STATUS_TO_EXCEPTION_DICT, __USBError)\u001b[0m\n\u001b[1;32m    113\u001b[0m \u001b[38;5;28;01mdef\u001b[39;00m \u001b[38;5;21mraiseUSBError\u001b[39m(\n\u001b[1;32m    114\u001b[0m         value,\n\u001b[1;32m    115\u001b[0m         \u001b[38;5;66;03m# Avoid globals lookup on call to work during interpreter shutdown.\u001b[39;00m\n\u001b[1;32m    116\u001b[0m         __STATUS_TO_EXCEPTION_DICT\u001b[38;5;241m=\u001b[39mSTATUS_TO_EXCEPTION_DICT,\n\u001b[1;32m    117\u001b[0m         __USBError\u001b[38;5;241m=\u001b[39mUSBError,\n\u001b[1;32m    118\u001b[0m     ): \u001b[38;5;66;03m# pylint: disable=dangerous-default-value\u001b[39;00m\n\u001b[0;32m--> 119\u001b[0m     \u001b[38;5;28;01mraise\u001b[39;00m __STATUS_TO_EXCEPTION_DICT\u001b[38;5;241m.\u001b[39mget(value, __USBError)(value)\n",
      "\u001b[0;31mUSBErrorBusy\u001b[0m: LIBUSB_ERROR_BUSY [-6]"
     ]
    }
   ],
   "source": [
    "%run \"../Setup_Scripts/Setup_Generic.ipynb\""
   ]
  },
  {
   "cell_type": "markdown",
   "metadata": {},
   "source": [
    "We're using a different bit of firmware called `simpleserial-glitch`. This firmware contains different pieces of code that are designed to be easy to glitch, which is very useful when working with a target for the first time"
   ]
  },
  {
   "cell_type": "code",
   "execution_count": null,
   "metadata": {},
   "outputs": [],
   "source": [
    "%%bash -s \"$PLATFORM\" \"$SS_VER\"\n",
    "cd ../../hardware/victims/firmware/simpleserial-glitch\n",
    "make PLATFORM=$1 CRYPTO_TARGET=NONE SS_VER=$2 -j"
   ]
  },
  {
   "cell_type": "code",
   "execution_count": null,
   "metadata": {},
   "outputs": [],
   "source": [
    "fw_path = \"../../hardware/victims/firmware/simpleserial-glitch/simpleserial-glitch-{}.hex\".format(PLATFORM)\n",
    "cw.program_target(scope, prog, fw_path)\n",
    "if SS_VER==\"SS_VER_2_1\":\n",
    "    target.reset_comms()"
   ]
  },
  {
   "cell_type": "markdown",
   "metadata": {},
   "source": [
    "Glitching can cause a target to crash, which can also cause garbage on the serial lines. We'll define a quick function to reset the target and clear the serial buffer:"
   ]
  },
  {
   "cell_type": "code",
   "execution_count": null,
   "metadata": {},
   "outputs": [],
   "source": [
    "def reboot_flush():\n",
    "    reset_target(scope)\n",
    "    target.flush()"
   ]
  },
  {
   "cell_type": "markdown",
   "metadata": {},
   "source": [
    "There's a few different demos that this firmware can run. For this lab, the one we care about is triggered by the `\"g\"` command in simpleserial. The code for that looks like:\n",
    "\n",
    "```C\n",
    "uint8_t glitch_loop(uint8_t cmd, uint8_t scmd, uint8_t len, uint8_t* in)\n",
    "{\n",
    "    volatile uint16_t i, j;\n",
    "    volatile uint32_t cnt;\n",
    "    cnt = 0;\n",
    "    trigger_high();\n",
    "    for(i=0; i<50; i++){\n",
    "        for(j=0; j<50; j++){\n",
    "            cnt++;\n",
    "        }\n",
    "    }\n",
    "    trigger_low();\n",
    "    simpleserial_put('r', 4, (uint8_t*)&cnt);\n",
    "    return (cnt != 2500) ? 0x10 : 0x00;\n",
    "}\n",
    "```\n",
    "\n",
    "As you can see, there's not much going on here - it's just a loop that does 2500 increments of the `cnt` variable. Our goal will be to glitch this firmware so that `cnt != 2500`. This command takes no data, so you should send an empty array with the `\"g\"` command. It also returns 4 bytes (the `cnt` variable). Use what you learned in previous labs to send the `\"g\"` command and read `cnt` back. Make sure you remember to arm the scope and capture the trace."
   ]
  },
  {
   "cell_type": "code",
   "execution_count": null,
   "metadata": {},
   "outputs": [],
   "source": [
    "# ###################\n",
    "# Add your code here to send the \"g\" command and read the response (Code Block 1)\n",
    "# ###################\n",
    "raise NotImplementedError(\"Add your code here, and delete this.\")"
   ]
  },
  {
   "cell_type": "markdown",
   "metadata": {},
   "source": [
    "You should get a bytearray containing `c4, 09, 00, 00` (`0x000009c4` as a 32-bit integer), which is in fact 2500. Now that we know what our goal is, let's take a closer look at glitching on the Husky.\n",
    "\n",
    "The simpleserial targets also include a special `simpleserial_read_witherrors()` method that better handles glitches:"
   ]
  },
  {
   "cell_type": "code",
   "execution_count": null,
   "metadata": {},
   "outputs": [],
   "source": [
    "# ###################\n",
    "# Add your code here to send the \"g\" command (Code Block 2)\n",
    "# ###################\n",
    "raise NotImplementedError(\"Add your code here, and delete this.\")\n",
    "\n",
    "val = target.simpleserial_read_witherrors('r', 4, timeout=50, glitch_timeout=1)\n",
    "print(val)"
   ]
  },
  {
   "cell_type": "markdown",
   "metadata": {},
   "source": [
    "This method will tell you if you got a valid packet back, as well as the return value from the simpleserial function on the target."
   ]
  },
  {
   "cell_type": "markdown",
   "metadata": {},
   "source": [
    "## Voltage Glitch Hardware\n",
    "\n",
    "Before we get to glitching, let's quickly run through the ChipWhisperer's glitching hardware. Here's a block diagram of the glitch module:\n",
    "\n",
    "![glitch](img/cwlitepro_glitch.png)\n",
    "\n",
    "Don't worry, we'll break this down into smaller chunks as we go along.\n",
    "\n",
    "To start, the Husky's glitch module is quite power hungry so, by default, it's disabled. Let's fix that:"
   ]
  },
  {
   "cell_type": "code",
   "execution_count": null,
   "metadata": {},
   "outputs": [],
   "source": [
    "scope.glitch.enabled = True"
   ]
  },
  {
   "cell_type": "markdown",
   "metadata": {},
   "source": [
    "The goal with the Husky's glitch module is to precisely control a transistor so that we can short a target's Vcc pin to ground for small time periods. The way the Husky does that is by manipulating a clock using phase shifts. This means that we need a clock source for our glitch module. You can see the clock input in the top left of the block diagram:\n",
    "\n",
    "![](img/glitch_inputs.png)\n",
    "\n",
    "This clock can either come from the Husky's PLL (which also clocks the target/ADC), or from an external source. We're providing a clock for the target, so we can just use the PLL for this lab:"
   ]
  },
  {
   "cell_type": "code",
   "execution_count": null,
   "metadata": {},
   "outputs": [],
   "source": [
    "scope.glitch.clk_src = \"pll\""
   ]
  },
  {
   "cell_type": "markdown",
   "metadata": {},
   "source": [
    "Next, this clock is sent through two phase shifts to control its properties\n",
    "\n",
    "![A2_4](img/Glitchgen-phaseshift.png)\n",
    "\n",
    "The first phase shift will shift the glitch stream in time. This phase shift can between -49.8% (49.8% backwards) and +49.8% (49.8% forwards) and can be controlled by `scope.glitch.offset`. The second phase shift controls the width of the glitch stream. This phase shift can also technically be between -50% and +50%, but negative values here are redundant. This phase shift is controlled by `scope.glitch.width`.\n",
    "\n",
    "These values map a bit differently than earlier ChipWhisperers. For `scope.glitch.offset`, `[-49.8%, 49.8%]` maps to `[0, scope.glitch.phase_shift_steps]`. For `scope.glitch.width`, `[0, 49.8%]` maps to `[0, scope.glitch.phase_shift_steps//2]`.\n",
    "\n",
    "`phase_shift_steps` depends on the input clock, as well as a Voltage Controlled Oscillator (VCO) internal to the Husky. This VCO can be controlled by `scope.clock.update_fpga_vco()`, and is adjustable between 600MHz and 1200MHz, with higher values giving finer steps on `width` and `offset`. We don't need super precise glitches, so we can leave this at its default.\n",
    "\n",
    "The other important input for the glitch module is the trigger:\n",
    "\n",
    "![trig](img/glitch_trigger.png)\n",
    "\n",
    "This is a bit different from the trigger for the ADC. First of all, you can see that there's no rising/falling/high/low option. Instead, `trigger` is always rising edge and you can think of it as being high for a full glitch. We also have 4 different options for how to trigger the glitch:\n",
    "\n",
    "* manual - trigger a glitch via `scope.glitch.manual_trigger()`\n",
    "* ext_single - trigger a glitch on a rising edge when the scope is armed\n",
    "* ext_continuous - trigger a glitch on a rising edge\n",
    "* continuous - Continuously trigger a glitch\n",
    "\n",
    "Most of the time, you'll want to use `ext_single`, as the trigger allows us to precisely place glitches and arming the scope gives us more control over when we're glitching. "
   ]
  },
  {
   "cell_type": "code",
   "execution_count": null,
   "metadata": {},
   "outputs": [],
   "source": [
    "scope.glitch.trigger_src = \"ext_single\""
   ]
  },
  {
   "cell_type": "markdown",
   "metadata": {},
   "source": [
    "Next, `ext_offset` allows us to delay the trigger by multiple clock cycles. This is very useful, as the operation you want to glitch is usually after the trigger, not right on top of it. Repeat is more situational. As the name suggests, it repeats the trigger multiple times. This can be combined with the `enable_only` output setting to glitch longer than one clock cycle.\n",
    "\n",
    "We're almost there! The final part is the output stage:\n",
    "\n",
    "![](img/glitch_output.png)\n",
    "\n",
    "We're got 5 options here:\n",
    "\n",
    "* clock_only - Feed the Input Clock directly into the output\n",
    "* clock_xor - AND the Input Clock and Glitch Trigger, then XOR with the Input Clock\n",
    "* clock_or - AND the Input Clock and Glitch Trigger, then OR with the Input Clock\n",
    "* glitch_only - AND the Input Clock and Glitch Trigger\n",
    "* enable_only - Glitch Trigger only\n",
    "\n",
    "`clock_only`, `clock_xor`, and `clock_or` are mostly useful when clock glitching - trying to oscillate the Vcc pin like that is way too strong. `glitch_only` and `enable_only` can both be useful when glitching, but generally lend themselves to different strategies. If you're glitching without a target clock, you can crank up `scope.clock.clkgen_freq` and bypass the 50% restriction on the phase shift blocks. For this lab, however, we'll be using `glitch_only`, as we want to make use of the `width` and `offset` blocks and a 50% width is plenty strong enough to glitch this target."
   ]
  },
  {
   "cell_type": "code",
   "execution_count": null,
   "metadata": {},
   "outputs": [],
   "source": [
    "scope.glitch.output = \"glitch_only\""
   ]
  },
  {
   "cell_type": "markdown",
   "metadata": {},
   "source": [
    "All that's left now is to enable the glitch transistor that we'll be using. We generally recommend the high-power glitch transistor, as that seems to be the most reliable on the Husky:"
   ]
  },
  {
   "cell_type": "code",
   "execution_count": null,
   "metadata": {},
   "outputs": [],
   "source": [
    "scope.io.glitch_hp = True"
   ]
  },
  {
   "cell_type": "markdown",
   "metadata": {},
   "source": [
    "This setup is pretty consistent, so we've got a convenience method that recreates what we've done above: `scope.vglitch_setup('hp')`."
   ]
  },
  {
   "cell_type": "code",
   "execution_count": null,
   "metadata": {},
   "outputs": [],
   "source": [
    "scope.vglitch_setup?"
   ]
  },
  {
   "cell_type": "markdown",
   "metadata": {},
   "source": [
    "We can also print the glitch module to quickly see our settings:"
   ]
  },
  {
   "cell_type": "code",
   "execution_count": null,
   "metadata": {},
   "outputs": [],
   "source": [
    "print(scope.glitch)"
   ]
  },
  {
   "cell_type": "markdown",
   "metadata": {},
   "source": [
    "Now that we know how the glitch module works, let's see if we can glitch our target. Basically, what we want to do here is iterate through `width`, `offset`, and `ext_offset` until we find settings that work. We'll also want to record whether or not each setting was successful, crashed the target, or did nothing. ChipWhisperer includes a `GlitchController` to make this easier:"
   ]
  },
  {
   "cell_type": "code",
   "execution_count": null,
   "metadata": {},
   "outputs": [],
   "source": [
    "import chipwhisperer as cw\n",
    "gc = cw.GlitchController(groups=[\"success\", \"reset\", \"normal\"], parameters=[\"width\", \"offset\", \"ext_offset\", \"tries\"])\n",
    "gc.display_stats()"
   ]
  },
  {
   "cell_type": "markdown",
   "metadata": {},
   "source": [
    "You can see we've added a `\"tries\"` parameter as well. This is just to make it easy to try each setting multiple times. We can also do a real-time glitch plot as well, so you can see which settings are working in real time:"
   ]
  },
  {
   "cell_type": "code",
   "execution_count": null,
   "metadata": {},
   "outputs": [],
   "source": [
    "gc.glitch_plot(plotdots={\"success\":\"+g\", \"reset\":\"xr\", \"normal\":None}, x_index=\"width\", y_index=\"offset\")"
   ]
  },
  {
   "cell_type": "markdown",
   "metadata": {},
   "source": [
    "Next, we need to set the ranges for these parameters. Usually the best strategy is to start with a large range and work our way down as we learn more about the target:"
   ]
  },
  {
   "cell_type": "code",
   "execution_count": null,
   "metadata": {},
   "outputs": [],
   "source": [
    "gc.set_range(\"tries\", 1, 1) # one try for each setting\n",
    "gc.set_range(\"ext_offset\", 0, 30)\n",
    "\n",
    "# Fill in your width/offset:\n",
    "# ###################\n",
    "# Add your code here to set width/offset/ext_offset from glitch_setting (Code Block 3)\n",
    "# ###################\n",
    "raise NotImplementedError(\"Add your code here, and delete this.\")\n",
    "\n",
    "scope.glitch.repeat = 1\n",
    "\n",
    "# Stops Husky's error LEDs from flashing due to weird power traces\n",
    "scope.adc.lo_gain_errors_disabled = True\n",
    "scope.adc.clip_errors_disabled = True"
   ]
  },
  {
   "cell_type": "markdown",
   "metadata": {},
   "source": [
    "We can also set how large we want our step size to be when iterating through our range. `scope.glitch.width` and `scope.glitch.offset` are likely several thousand, so we want a fairly large step size starting out. Something like 250 should work. Like with the parameter ranges, we can reduce this if required later on.\n",
    "\n",
    "The glitch controller also allows you to set step sizes for individual parameters as well. This is very useful on Husky, as we probably want to increase `ext_offset`'s step size by 1 instead of 250."
   ]
  },
  {
   "cell_type": "code",
   "execution_count": null,
   "metadata": {},
   "outputs": [],
   "source": [
    "gc.set_global_step([10]) # reduce to fine tune glitching\n",
    "gc.set_step(\"ext_offset\", 1)\n",
    "gc.set_step(\"tries\", 1)"
   ]
  },
  {
   "cell_type": "markdown",
   "metadata": {},
   "source": [
    "If you want to adjust width and offset, you can do so:"
   ]
  },
  {
   "cell_type": "code",
   "execution_count": null,
   "metadata": {},
   "outputs": [],
   "source": [
    "#gc.set_range(\"width\", 0, scope.glitch.phase_shift_steps // 2) # max range\n",
    "#gc.set_range(\"offset\", 0, scope.glitch.phase_shift_steps) # max range\n",
    "#gc.set_step(\"width\", 1)\n",
    "#gc.set_step(\"offset\", 1)"
   ]
  },
  {
   "cell_type": "markdown",
   "metadata": {},
   "source": [
    "We can then get our parameters back with `gc.glitch_values()`. This is an iterator, so you can loop through it with `for`:"
   ]
  },
  {
   "cell_type": "code",
   "execution_count": null,
   "metadata": {
    "scrolled": true
   },
   "outputs": [],
   "source": [
    "i = 0\n",
    "for glitch_setting in gc.glitch_values():\n",
    "    print(glitch_setting)\n",
    "    i += 1\n",
    "    if i > 100:\n",
    "        break"
   ]
  },
  {
   "cell_type": "markdown",
   "metadata": {},
   "source": [
    "You should see a bunch of values printed out iterating through each of the parameters.\n",
    "\n",
    "And that's pretty much it! All that's left is to make a loop to glitch our target. Things we need to do are:\n",
    "\n",
    "1. Iterate through the loop\n",
    "1. Assign our glitch_settings\n",
    "1. Arm the scope\n",
    "1. Send the `\"g\"` command\n",
    "1. Call `scope.capture()`\n",
    "1. Read back the result\n",
    "1. Determine if we had a successful glitch, a crash, or if nothing happened. \n",
    "\n",
    "You can see below, that that's mostly what's happening. There's some extra stuff there to try to detect if the target is crashed before attempting a glitch, as this speeds up glitching a lot. You can also add `\"success\"` `\"reset\"` and `\"normal\"` with `gc.add()`, which will allow the glitch controller to keep track of the results and plot the glitch settings.\n",
    "\n",
    "You'll be responsible for the bolded steps from above. Remember that the `2500` read back is actually a bytearray of the bytes that make up that number (`bytearray([c4, 09, 00, 00])`)."
   ]
  },
  {
   "cell_type": "code",
   "execution_count": null,
   "metadata": {},
   "outputs": [],
   "source": [
    "import struct\n",
    "\n",
    "#disable logging\n",
    "cw.set_all_log_levels(cw.logging.CRITICAL)\n",
    "scope.adc.timeout = 0.5 # prevent crashes from taking too long\n",
    "\n",
    "reboot_flush()\n",
    "\n",
    "# 1. Iterate through the loop\n",
    "for glitch_setting in gc.glitch_values():\n",
    "    \n",
    "    # 2. Assign our glitch settings\n",
    "    # ###################\n",
    "    # Add your code here to set width/offset/ext_offset from glitch_setting (Code Block 4)\n",
    "    # ###################\n",
    "    raise NotImplementedError(\"Add your code here, and delete this.\")\n",
    "\n",
    "    target.flush() # flush garbage from serial lines\n",
    "    \n",
    "    # Try detecting if the target is crashed\n",
    "    if scope.adc.state:\n",
    "        gc.add(\"reset\")\n",
    "        reboot_flush()\n",
    "\n",
    "    # 3. Arm the scope\n",
    "    scope.arm()\n",
    "\n",
    "    # 4. Send the \"g\" command\n",
    "    target.simpleserial_write(\"g\", bytearray([]))\n",
    "\n",
    "    # Call scope.capture\n",
    "    ret = scope.capture()\n",
    "    \n",
    "    # If trigger didn't fire, target is probably crashed\n",
    "    if ret:\n",
    "        gc.add(\"reset\")\n",
    "        reboot_flush()\n",
    "    else:\n",
    "        # 6. Read back the calculated number\n",
    "        val = target.simpleserial_read_witherrors('r', 4, glitch_timeout=1, timeout=50)\n",
    "        \n",
    "        # If target sent us garabge, it probably crashed\n",
    "        if val['valid'] is False:\n",
    "            gc.add(\"reset\")\n",
    "            reboot_flush()\n",
    "        else:\n",
    "            # 7. Determine if we had a successful glitch\n",
    "            # ###################\n",
    "            # Add your code here to set width/offset/ext_offset from glitch_setting (Code Block 4)\n",
    "            # ###################\n",
    "            raise NotImplementedError(\"Add your code here, and delete this.\")\n",
    "            \n",
    "print(\"Done glitching\")\n",
    "\n",
    "# reenable logging\n",
    "cw.set_all_log_levels(cw.logging.WARNING)"
   ]
  },
  {
   "cell_type": "markdown",
   "metadata": {},
   "source": [
    "Don't worry if you didn't get any successful glitches - you've still got some valuable information! You should see a big region where your width is too small to have any effect. Similarly, you probably have a region where you're only getting resets. Go back and narrow down your width range and step size, then rerun the glitch loop.\n",
    "\n",
    "You may also want to increase range of the \"tries\" parameter. Glitching typically works a percentage of the time, so trying each setting multiple times can give you information about how often they work/cause resets.\n",
    "\n",
    "The glitch controller includes a `calc` function for seeing how well your glitches worked. For example, the following will sort by the success rate while ignoring tries and ext_offset, allowing you to see which width/offset settings worked best. **You should record the locations you got successful glitches at. This will be helpful in later labs.**"
   ]
  },
  {
   "cell_type": "code",
   "execution_count": null,
   "metadata": {
    "scrolled": true
   },
   "outputs": [],
   "source": [
    "results = gc.calc(ignore_params=[\"tries\"], sort=\"success_rate\")\n",
    "results"
   ]
  },
  {
   "cell_type": "markdown",
   "metadata": {},
   "source": [
    "If you run through the lab again, you might want to try seeing which `ext_offset` worked so that you can also reduce the range on this."
   ]
  },
  {
   "cell_type": "code",
   "execution_count": null,
   "metadata": {},
   "outputs": [],
   "source": [
    "results = gc.calc(ignore_params=[\"tries\", \"offset\", \"width\"], sort=\"success_rate\")\n",
    "results"
   ]
  },
  {
   "cell_type": "code",
   "execution_count": null,
   "metadata": {},
   "outputs": [],
   "source": [
    "scope.dis()\n",
    "target.dis()"
   ]
  },
  {
   "cell_type": "code",
   "execution_count": null,
   "metadata": {},
   "outputs": [],
   "source": [
    "assert total_successes >= 1"
   ]
  }
 ],
 "metadata": {
  "kernelspec": {
   "display_name": "Python 3 (ipykernel)",
   "language": "python",
   "name": "python3"
  },
  "language_info": {
   "codemirror_mode": {
    "name": "ipython",
    "version": 3
   },
   "file_extension": ".py",
   "mimetype": "text/x-python",
   "name": "python",
   "nbconvert_exporter": "python",
   "pygments_lexer": "ipython3",
   "version": "3.10.6"
  }
 },
 "nbformat": 4,
 "nbformat_minor": 4
}
