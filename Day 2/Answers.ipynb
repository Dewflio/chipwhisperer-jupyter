{
 "cells": [
  {
   "cell_type": "markdown",
   "id": "5f8c9bd0",
   "metadata": {},
   "source": [
    "# Lab 1"
   ]
  },
  {
   "cell_type": "code",
   "execution_count": null,
   "id": "d2cce6f1",
   "metadata": {},
   "outputs": [],
   "source": [
    "# Code Block 1\n",
    "scope.arm()\n",
    "target.simpleserial_write(\"g\", [])\n",
    "scope.capture()\n",
    "\n",
    "val = target.simpleserial_read('r', 4)\n",
    "print(val)"
   ]
  },
  {
   "cell_type": "code",
   "execution_count": null,
   "id": "ad0fd29a",
   "metadata": {},
   "outputs": [],
   "source": [
    "# Code Block 2\n",
    "scope.arm()\n",
    "target.simpleserial_write(\"g\", [])\n",
    "scope.capture()"
   ]
  },
  {
   "cell_type": "code",
   "execution_count": null,
   "id": "cea0dd79",
   "metadata": {},
   "outputs": [],
   "source": [
    "# Code Block 3\n",
    "gc.set_range(\"width\", 0, scope.glitch.phase_shift_steps // 2) # max range\n",
    "gc.set_range(\"offset\", 0, scope.glitch.phase_shift_steps) # max range"
   ]
  },
  {
   "cell_type": "code",
   "execution_count": null,
   "id": "f6e8aad9",
   "metadata": {},
   "outputs": [],
   "source": [
    "# Code Block 4\n",
    "scope.glitch.width = glitch_setting[0]\n",
    "scope.glitch.offset = glitch_setting[1]\n",
    "scope.glitch.ext_offset = glitch_setting[2]"
   ]
  },
  {
   "cell_type": "code",
   "execution_count": null,
   "id": "07ca2a46",
   "metadata": {},
   "outputs": [],
   "source": [
    "# Code Block 5\n",
    "# NOTE: lots of ways to do this one, this is just one of the ways\n",
    "gcnt = struct.unpack(\"<I\", val['payload'])[0]\n",
    "\n",
    "if gcnt != 2500:\n",
    "    gc.add(\"success\")\n",
    "else:\n",
    "    gc.add(\"normal\")"
   ]
  },
  {
   "cell_type": "markdown",
   "id": "9b0b0c6b",
   "metadata": {},
   "source": [
    "# Lab 2"
   ]
  },
  {
   "cell_type": "code",
   "execution_count": null,
   "id": "fbb2fa3a",
   "metadata": {},
   "outputs": [],
   "source": [
    "# Code Block 1\n",
    "pw = bytearray([0x00*5])\n",
    "target.simpleserial_write('p', pw)\n",
    "\n",
    "val = target.simpleserial_read_witherrors('r', 1, glitch_timeout=10)#For loop check\n",
    "valid = val['valid']\n",
    "\n",
    "print(val)"
   ]
  },
  {
   "cell_type": "code",
   "execution_count": null,
   "id": "cbddc391",
   "metadata": {},
   "outputs": [],
   "source": [
    "# Code Block 2\n",
    "# Note: These are just example ranges and may not work for your device\n",
    "gc.set_range(\"width\", 1900, 2100)\n",
    "gc.set_range(\"offset\", 2400, 3000)\n",
    "gc.set_range(\"ext_offset\", 0, 150)\n",
    "gc.set_global_step([20])"
   ]
  },
  {
   "cell_type": "code",
   "execution_count": null,
   "id": "cbaead50",
   "metadata": {},
   "outputs": [],
   "source": [
    "# Code Block 3\n",
    "val = target.simpleserial_read_witherrors('r', 1, glitch_timeout=10, timeout=50)#For loop check\n",
    "if val['valid'] is False:\n",
    "    gc.add(\"reset\")\n",
    "else:\n",
    "    if val['payload'] == bytearray([1]): #for loop check\n",
    "        successes +=1 \n",
    "        gc.add(\"success\")\n",
    "        print(val)\n",
    "        print(val['payload'])\n",
    "        print(scope.glitch.width, scope.glitch.offset, scope.glitch.ext_offset)\n",
    "        print(\"🐙\", end=\"\")\n",
    "    else:\n",
    "        gc.add(\"normal\")"
   ]
  },
  {
   "cell_type": "markdown",
   "id": "8ff0b9c7",
   "metadata": {},
   "source": [
    "# Lab 3"
   ]
  },
  {
   "cell_type": "code",
   "execution_count": null,
   "id": "5ea4e97e",
   "metadata": {},
   "outputs": [],
   "source": [
    "# Code Block 1\n",
    "sig = output['payload']\n",
    "sig_check = signer.verify(hash_object, sig)\n",
    "if sig_check is False: \n",
    "    # detect if the calculation was messed up\n",
    "    # call the faulty signature whatever you want\n",
    "    # but we'll assume it's called sig for the rest of the lab\n",
    "    print(\"Glitched!\")\n",
    "    sig = sig\n",
    "    break"
   ]
  }
 ],
 "metadata": {
  "kernelspec": {
   "display_name": "Python 3 (ipykernel)",
   "language": "python",
   "name": "python3"
  },
  "language_info": {
   "codemirror_mode": {
    "name": "ipython",
    "version": 3
   },
   "file_extension": ".py",
   "mimetype": "text/x-python",
   "name": "python",
   "nbconvert_exporter": "python",
   "pygments_lexer": "ipython3",
   "version": "3.9.5"
  }
 },
 "nbformat": 4,
 "nbformat_minor": 5
}
