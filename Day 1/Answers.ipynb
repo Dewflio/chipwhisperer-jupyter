{
 "cells": [
  {
   "cell_type": "markdown",
   "id": "adf208bf",
   "metadata": {},
   "source": [
    "# Lab 1"
   ]
  },
  {
   "cell_type": "code",
   "execution_count": null,
   "id": "b455a518",
   "metadata": {},
   "outputs": [],
   "source": [
    "# Code Block 1\n",
    "cw.plot(cap_pass_trace(\"h\\n\")) * cw.plot(cap_pass_trace(\"0\\n\"))"
   ]
  },
  {
   "cell_type": "code",
   "execution_count": null,
   "id": "85029882",
   "metadata": {},
   "outputs": [],
   "source": [
    "# Code Block 2\n",
    "from tqdm.notebook import tqdm\n",
    "fig = cw.plot()\n",
    "for c in tqdm('abcdefghijklmnopqrstuvwxyz0123456789'):\n",
    "    trace = cap_pass_trace(c + \"\\n\")\n",
    "    fig *= cw.plot(trace[0:1000])\n",
    "    \n",
    "display(fig)"
   ]
  },
  {
   "cell_type": "code",
   "execution_count": null,
   "id": "1e0bde8a",
   "metadata": {},
   "outputs": [],
   "source": [
    "# Code Block 3\n",
    "ref_trace = cap_pass_trace(\"h0p\\x00\\n\")[0:1000]\n",
    "plot = cw.plot()\n",
    "for c in 'abcdefghijklmnopqrstuvwxyz0123456789': \n",
    "    trace = cap_pass_trace('h0p' + c + \"\\n\")[0:1000]\n",
    "    plot *= cw.plot(trace - ref_trace)\n",
    "display(plot)"
   ]
  },
  {
   "cell_type": "code",
   "execution_count": null,
   "id": "f10d3d25",
   "metadata": {},
   "outputs": [],
   "source": [
    "# Code Block 4\n",
    "ref_trace = cap_pass_trace( \"h0p\\x00\\n\")\n",
    "\n",
    "\n",
    "for c in 'abcdefghijklmnopqrstuvwxyz0123456789': \n",
    "    trace = cap_pass_trace(\"h0p\" + c + \"\\n\")\n",
    "    diff = np.sum(np.abs(trace - ref_trace))\n",
    "    \n",
    "    print(\"{:1} diff = {:2}\".format(c, diff))"
   ]
  },
  {
   "cell_type": "code",
   "execution_count": null,
   "id": "9ae63e03",
   "metadata": {},
   "outputs": [],
   "source": [
    "guessed_pw = \"\"\n",
    "\n",
    "for _ in range(0, 5):  \n",
    "    biggest_diff = 0\n",
    "    biggest_char = '\\x00'\n",
    "    ref_trace = cap_pass_trace(guessed_pw + \"\\x00\\n\")\n",
    "    \n",
    "    for c in 'abcdefghijklmnopqrstuvwxyz0123456789': \n",
    "        trace = cap_pass_trace(guessed_pw + c + \"\\n\")\n",
    "        diff = np.sum(np.abs(trace - ref_trace))\n",
    "\n",
    "        if diff > biggest_diff:\n",
    "            biggest_diff = diff\n",
    "            biggest_char = c\n",
    "            \n",
    "    guessed_pw += biggest_char\n",
    "    print(guessed_pw)"
   ]
  }
 ],
 "metadata": {
  "kernelspec": {
   "display_name": "Python 3 (ipykernel)",
   "language": "python",
   "name": "python3"
  },
  "language_info": {
   "codemirror_mode": {
    "name": "ipython",
    "version": 3
   },
   "file_extension": ".py",
   "mimetype": "text/x-python",
   "name": "python",
   "nbconvert_exporter": "python",
   "pygments_lexer": "ipython3",
   "version": "3.10.5"
  }
 },
 "nbformat": 4,
 "nbformat_minor": 5
}
