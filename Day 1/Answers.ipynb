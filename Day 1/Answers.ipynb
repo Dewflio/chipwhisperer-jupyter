{
 "cells": [
  {
   "cell_type": "markdown",
   "id": "adf208bf",
   "metadata": {},
   "source": [
    "# Lab 1"
   ]
  },
  {
   "cell_type": "code",
   "execution_count": null,
   "id": "b455a518",
   "metadata": {},
   "outputs": [],
   "source": [
    "# Code Block 1\n",
    "cw.plot(cap_pass_trace(\"h\\n\")) * cw.plot(cap_pass_trace(\"0\\n\"))"
   ]
  },
  {
   "cell_type": "code",
   "execution_count": null,
   "id": "85029882",
   "metadata": {},
   "outputs": [],
   "source": [
    "# Code Block 2\n",
    "from tqdm.notebook import tqdm\n",
    "fig = cw.plot()\n",
    "for c in tqdm('abcdefghijklmnopqrstuvwxyz0123456789'):\n",
    "    trace = cap_pass_trace(c + \"\\n\")\n",
    "    fig *= cw.plot(trace[0:1000])\n",
    "    \n",
    "display(fig)"
   ]
  },
  {
   "cell_type": "code",
   "execution_count": null,
   "id": "1e0bde8a",
   "metadata": {},
   "outputs": [],
   "source": [
    "# Code Block 3\n",
    "ref_trace = cap_pass_trace(\"h0p\\x00\\n\")[0:1000]\n",
    "plot = cw.plot()\n",
    "for c in 'abcdefghijklmnopqrstuvwxyz0123456789': \n",
    "    trace = cap_pass_trace('h0p' + c + \"\\n\")[0:1000]\n",
    "    plot *= cw.plot(trace - ref_trace)\n",
    "display(plot)"
   ]
  },
  {
   "cell_type": "code",
   "execution_count": null,
   "id": "f10d3d25",
   "metadata": {},
   "outputs": [],
   "source": [
    "# Code Block 4\n",
    "ref_trace = cap_pass_trace( \"h0p\\x00\\n\")\n",
    "\n",
    "\n",
    "for c in 'abcdefghijklmnopqrstuvwxyz0123456789': \n",
    "    trace = cap_pass_trace(\"h0p\" + c + \"\\n\")\n",
    "    diff = np.sum(np.abs(trace - ref_trace))\n",
    "    \n",
    "    print(\"{:1} diff = {:2}\".format(c, diff))"
   ]
  },
  {
   "cell_type": "code",
   "execution_count": null,
   "id": "9ae63e03",
   "metadata": {},
   "outputs": [],
   "source": [
    "# Code Block 5\n",
    "guessed_pw = \"\"\n",
    "\n",
    "for _ in range(0, 5):  \n",
    "    biggest_diff = 0\n",
    "    biggest_char = '\\x00'\n",
    "    ref_trace = cap_pass_trace(guessed_pw + \"\\x00\\n\")\n",
    "    \n",
    "    for c in 'abcdefghijklmnopqrstuvwxyz0123456789': \n",
    "        trace = cap_pass_trace(guessed_pw + c + \"\\n\")\n",
    "        diff = np.sum(np.abs(trace - ref_trace))\n",
    "\n",
    "        if diff > biggest_diff:\n",
    "            biggest_diff = diff\n",
    "            biggest_char = c\n",
    "            \n",
    "    guessed_pw += biggest_char\n",
    "    print(guessed_pw)"
   ]
  },
  {
   "cell_type": "markdown",
   "id": "4ee02e20",
   "metadata": {},
   "source": [
    "# Lab 2\n",
    "\n",
    "Lab 2 has no code blocks for the user to fill in"
   ]
  },
  {
   "cell_type": "markdown",
   "id": "b1a5ae96",
   "metadata": {},
   "source": [
    "# Lab 3"
   ]
  },
  {
   "cell_type": "code",
   "execution_count": null,
   "id": "500ddca9",
   "metadata": {},
   "outputs": [],
   "source": [
    "# Code Block 1\n",
    "target.simpleserial_write('k', key)"
   ]
  },
  {
   "cell_type": "code",
   "execution_count": null,
   "id": "53006035",
   "metadata": {},
   "outputs": [],
   "source": [
    "# Code Block 2\n",
    "scope.arm()\n",
    "\n",
    "target.simpleserial_write('p', text)\n",
    "\n",
    "ret = scope.capture()\n",
    "if ret:\n",
    "    print(\"Target timed out!\")\n",
    "    continue\n",
    "\n",
    "response = target.simpleserial_read('r', 16)\n",
    "\n",
    "trace_array.append(scope.get_last_trace())\n",
    "textin_array.append(text)"
   ]
  },
  {
   "cell_type": "code",
   "execution_count": null,
   "id": "a2f18b70",
   "metadata": {},
   "outputs": [],
   "source": [
    "# Code Block 3\n",
    "guess_array = np.array([\n",
    "    [trace_guesser(key_guess, text) for text in texts],\n",
    "    list(traces)\n",
    "])\n",
    "return abs(np.corrcoef(guess_array)[1][0])"
   ]
  },
  {
   "cell_type": "code",
   "execution_count": null,
   "id": "3f9cf7b2",
   "metadata": {},
   "outputs": [],
   "source": [
    "# Code Block 4\n",
    "return key ^ text"
   ]
  },
  {
   "cell_type": "code",
   "execution_count": null,
   "id": "fb3c58f9",
   "metadata": {},
   "outputs": [],
   "source": [
    "# Code Block 5\n",
    "return sbox[state]"
   ]
  },
  {
   "cell_type": "code",
   "execution_count": null,
   "id": "f4b22c13",
   "metadata": {},
   "outputs": [],
   "source": [
    "# Code Block 6\n",
    "def get_correlation(key_guess, texts, traces):\n",
    "    guess_array = np.array([\n",
    "        [trace_guesser(key_guess, text) for text in texts],\n",
    "        list(traces)\n",
    "    ])\n",
    "    return abs(np.corrcoef(guess_array)[1][0])\n",
    "\n",
    "# Now we'll use get_correlation() to break the traces \n",
    "\n",
    "best_guess = 0\n",
    "best_corr = 0\n",
    "for key_guess in trange(0, 256):\n",
    "    cur_corr = get_correlation(key_guess, texts, traces)\n",
    "    if abs(cur_corr) > best_corr:\n",
    "        best_guess = key_guess\n",
    "        best_corr = abs(cur_corr)\n",
    "        print(\"New best guess found: {:02X} (corr={})\".format(best_guess, best_corr))\n",
    "        \n"
   ]
  },
  {
   "cell_type": "markdown",
   "id": "cfd3ab6e",
   "metadata": {},
   "source": [
    "# Lab 4"
   ]
  }
 ],
 "metadata": {
  "kernelspec": {
   "display_name": "Python 3 (ipykernel)",
   "language": "python",
   "name": "python3"
  },
  "language_info": {
   "codemirror_mode": {
    "name": "ipython",
    "version": 3
   },
   "file_extension": ".py",
   "mimetype": "text/x-python",
   "name": "python",
   "nbconvert_exporter": "python",
   "pygments_lexer": "ipython3",
   "version": "3.10.4"
  }
 },
 "nbformat": 4,
 "nbformat_minor": 5
}
